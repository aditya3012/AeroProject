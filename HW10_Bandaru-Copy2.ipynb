{
 "cells": [
  {
   "cell_type": "code",
   "execution_count": 46,
   "metadata": {
    "collapsed": true
   },
   "outputs": [],
   "source": [
    "import numpy \n",
    "import math \n",
    "from scipy import integrate\n",
    "from matplotlib import pyplot "
   ]
  },
  {
   "cell_type": "markdown",
   "metadata": {},
   "source": [
    "# 1. Flow around a unit cylider and plot the Pressure coefficient."
   ]
  },
  {
   "cell_type": "code",
   "execution_count": 47,
   "metadata": {
    "collapsed": true
   },
   "outputs": [],
   "source": [
    "# defines the cylinder\n",
    "R = 1.0                                                           # radius\n",
    "theta = numpy.linspace(0, 2*math.pi, 100)                         # angles in radians\n",
    "x_cylinder, y_cylinder = R*numpy.cos(theta), R*numpy.sin(theta)   # coordinates of the cylinder\n",
    "\n",
    "\n",
    "%matplotlib inline"
   ]
  },
  {
   "cell_type": "code",
   "execution_count": 48,
   "metadata": {
    "collapsed": true
   },
   "outputs": [],
   "source": [
    "class Panel:\n",
    "    \"\"\"Contains information related to a panel.\"\"\"\n",
    "    def __init__(self, xa, ya, xb, yb):\n",
    "        \"\"\"Initializes the panel.\n",
    "        \n",
    "        Arguments\n",
    "        ---------\n",
    "        xa, ya -- coordinates of the first end-point of the panel.\n",
    "        xb, yb -- coordinates of the second end-point of the panel.\n",
    "        \"\"\"\n",
    "        self.xa, self.ya = xa, ya\n",
    "        self.xb, self.yb = xb, yb\n",
    "        \n",
    "        self.xc, self.yc = (xa+xb)/2, (ya+yb)/2       # control-point (center-point)\n",
    "        self.length = math.sqrt((xb-xa)**2+(yb-ya)**2)     # length of the panel\n",
    "        \n",
    "        # orientation of the panel (angle between x-axis and panel's normal)\n",
    "        if xb-xa <= 0.:\n",
    "            self.beta = math.acos((yb-ya)/self.length)\n",
    "        elif xb-xa > 0.:\n",
    "            self.beta = math.pi + math.acos(-(yb-ya)/self.length)\n",
    "            \n",
    "        self.sigma = 1                             # source strength\n",
    "        \n",
    "        self.n = [ math.cos(self.beta), math.sin(self.beta)]\n",
    "        self.t = [-math.sin(self.beta), math.cos(self.beta)]\n",
    "        \n",
    "        \n",
    "        self.vt = 0                                 # tangential velocity\n",
    "        self.cp = 0                                 # pressure coefficient"
   ]
  },
  {
   "cell_type": "code",
   "execution_count": 49,
   "metadata": {
    "collapsed": false
   },
   "outputs": [
    {
     "ename": "SyntaxError",
     "evalue": "invalid syntax (<ipython-input-49-34e41e271f81>, line 21)",
     "output_type": "error",
     "traceback": [
      "\u001b[1;36m  File \u001b[1;32m\"<ipython-input-49-34e41e271f81>\"\u001b[1;36m, line \u001b[1;32m21\u001b[0m\n\u001b[1;33m    u =  math.sin(p.beta)*u_p + math.cos(p.beta)*v_p\u001b[0m\n\u001b[1;37m    ^\u001b[0m\n\u001b[1;31mSyntaxError\u001b[0m\u001b[1;31m:\u001b[0m invalid syntax\n"
     ]
    }
   ],
   "source": [
    "def get_source_panel_velocity(p,x,y):\n",
    "    \"\"\"Evaluates the velocity components induced at coordinates (x,y) by a panel p.\n",
    "    \n",
    "    Arguments\n",
    "    ---------\n",
    "    p -- panel from which the velocity is induced\n",
    "    x -- x-coordinate in global frame\n",
    "    y -- y-coordinate in global frame\n",
    "    \n",
    "    Returns\n",
    "    -------\n",
    "    (u,v)-components of velocity at (x,y)\n",
    "    \"\"\"\n",
    "    \n",
    "    x_p =  math.sin(p.beta)*(x-p.xb) - math.cos(p.beta)*(y-p.yb)\n",
    "    y_p =  math.cos(p.beta)*(x-p.xb) + math.sin(p.beta)*(y-p.yb)\n",
    "    \n",
    "    u_p = p.sigma/(4*math.pi)*((x_p)/((x_p**2+y_p**2)-(y_p)/(x_p-p.length)**2+y_p**2))\n",
    "    v_p = p.sigma/(2*math.pi)*((x_p)/((x_p**2+y_p**2) - (x_p-p.length)**2/((x_p-p.length)**2+(y_p**2))\n",
    "    \n",
    "    u =  math.sin(p.beta)*u_p + math.cos(p.beta)*v_p\n",
    "    v = -math.cos(p.beta)*u_p + math.sin(p.beta)*v_p\n",
    "    \n",
    "    return u, v"
   ]
  },
  {
   "cell_type": "code",
   "execution_count": null,
   "metadata": {
    "collapsed": true
   },
   "outputs": [],
   "source": [
    "class Freestream:\n",
    "    \"\"\"Freestream conditions\"\"\"\n",
    "    def __init__(self, u_inf=1.0, alpha=2.0):\n",
    "        \"\"\"Sets the freestream conditions\n",
    "        \n",
    "        Params:\n",
    "        -------\n",
    "        u_inf    float, far field speed defaults to 1.0\n",
    "        alpha    float, angle of attack in degrees defaults to 0.0\n",
    "        \"\"\"\n",
    "        \n",
    "        self.u_inf = u_inf\n",
    "        self.alpha = alpha = alpha*numpy.pi/180"
   ]
  },
  {
   "cell_type": "code",
   "execution_count": null,
   "metadata": {
    "collapsed": true
   },
   "outputs": [],
   "source": [
    "def get_pressure_coefficient(panels, freestream):\n",
    "    \"\"\"Computes the surface pressure coefficients.\n",
    "    \n",
    "    Arguments\n",
    "    ---------\n",
    "    panels -- array of panels.\n",
    "    freestream -- farfield conditions.\n",
    "    \"\"\"\n",
    "    for panel in panels:\n",
    "        panel.cp = 1.0 - (panel.vt/u_inf)**2"
   ]
  },
  {
   "cell_type": "code",
   "execution_count": null,
   "metadata": {
    "collapsed": false
   },
   "outputs": [],
   "source": [
    "u_inf, alpha = 1.0, 2.0\n",
    "freestream = Freestream(u_inf, alpha)"
   ]
  },
  {
   "cell_type": "code",
   "execution_count": null,
   "metadata": {
    "collapsed": true
   },
   "outputs": [],
   "source": [
    "N_panels = 38                   # number of panels desired\n",
    "\n",
    "# defining the end-points of the panels\n",
    "x_ends = R*numpy.cos(numpy.linspace(0, 2*math.pi, N_panels+1))\n",
    "y_ends = R*numpy.sin(numpy.linspace(0, 2*math.pi, N_panels+1))\n",
    "\n",
    "# defining the panels\n",
    "panels = numpy.empty(N_panels, dtype=object)\n",
    "for i in range(N_panels):\n",
    "    panels[i] = Panel(x_ends[i], y_ends[i], x_ends[i+1], y_ends[i+1])"
   ]
  },
  {
   "cell_type": "code",
   "execution_count": null,
   "metadata": {
    "collapsed": false
   },
   "outputs": [],
   "source": [
    "A = numpy.empty((N_panels, N_panels), dtype=float)\n",
    "#numpy.fill_diagonal(A, 0.5)\n",
    "    \n",
    "for i in range(N_panels):\n",
    "    for j in range(N_panels):\n",
    "        if i != j:\n",
    "            A[i,j] = numpy.dot(get_source_panel_velocity(panels[j],panels[i].xc,panels[i].yc),panels[i].n)\n",
    "        else:\n",
    "            A[i,j] = 0.5*1.001\n",
    "            \n",
    "b = numpy.empty((N_panels), dtype='float')\n",
    "for i in range(N_panels):\n",
    "    b[i] = (-freestream.u_inf)(numpy.dot(numpy.array([u_inf,0]), (panels[i].n)))"
   ]
  },
  {
   "cell_type": "code",
   "execution_count": null,
   "metadata": {
    "collapsed": false
   },
   "outputs": [],
   "source": [
    "sigma = numpy.linalg.solve(A, b)"
   ]
  },
  {
   "cell_type": "code",
   "execution_count": null,
   "metadata": {
    "collapsed": false
   },
   "outputs": [],
   "source": [
    "C = numpy.empty((N_panels, N_panels), dtype='float')\n",
    "    #numpy.fill_diagonal(A, 0.0)\n",
    "    \n",
    "for i in range(N_panels):\n",
    "    for j in range(N_panels):\n",
    "        if i != j:\n",
    "            C[i,j] = numpy.dot(get_source_panel_velocity(panels[j],panels[i].xc,panels[i].yc),panels[i].t)\n",
    "        else:\n",
    "            C[i,j] = 0.0"
   ]
  },
  {
   "cell_type": "code",
   "execution_count": null,
   "metadata": {
    "collapsed": false
   },
   "outputs": [],
   "source": [
    "D = numpy.empty((N_panels), dtype='float')\n",
    "for i in range(N_panels):\n",
    "    D[i] = freestream.u_inf.dot(numpy.array([u_inf,0]), (panels[i].t))"
   ]
  },
  {
   "cell_type": "code",
   "execution_count": null,
   "metadata": {
    "collapsed": false
   },
   "outputs": [],
   "source": [
    "vt = numpy.dot(C,sigma) + D\n",
    "for i, panel in enumerate(panels):\n",
    "    panel.vt = vt[i]\n",
    "    \n",
    "for panel in panels:\n",
    "    panel.cp = 1.0 - (panel.vt)**2"
   ]
  },
  {
   "cell_type": "code",
   "execution_count": null,
   "metadata": {
    "collapsed": false
   },
   "outputs": [],
   "source": [
    "# Analytical solution\n",
    "cp_exact = 1.0 - 4*(y_cylinder/R)**2"
   ]
  },
  {
   "cell_type": "markdown",
   "metadata": {},
   "source": [
    "# 2. Flow around a NACA 0012 airfoil and comparing with theoritical solution. "
   ]
  },
  {
   "cell_type": "code",
   "execution_count": null,
   "metadata": {
    "collapsed": false
   },
   "outputs": [],
   "source": [
    "#transforming into Joukowsky \n",
    "N_panels = 20\n",
    "T  = 0.12\n",
    "c = 1 \n",
    "H = 0\n",
    "a = c/4\n",
    "theta = numpy.linspace(0, 2*math.pi, N_panels+1) \n",
    "Zeta_c = -4*a/(3*math.sqrt(3))*T+1j*2*H\n",
    "r_s = ((1/4)+(T/(3*math.sqrt(3))))*c\n",
    " \n",
    "Zeta = (r_s)*numpy.exp(1j*(theta))\n",
    "\n",
    "J = (Zeta+Zeta_c) + a**2/(Zeta+Zeta_c)\n",
    "\n",
    "x_ends = J.real\n",
    "y_ends = J.imag\n",
    "\n",
    "#x_ends = x_ends[::-1]\n",
    "#y_ends = y_ends[::-1]\n",
    "\n",
    "panels = numpy.empty(N_panels, dtype=object)\n",
    "for i in range(N_panels):\n",
    "    panels[i] = Panel(x_ends[i], y_ends[i], x_ends[i+1], y_ends[i+1])\n",
    "    "
   ]
  },
  {
   "cell_type": "code",
   "execution_count": null,
   "metadata": {
    "collapsed": true
   },
   "outputs": [],
   "source": [
    "A = numpy.empty((N_panels, N_panels), dtype='float')\n",
    "#numpy.fill_diagonal(A, 0.5)\n",
    "    \n",
    "for i in range(N_panels):\n",
    "    for j in range(N_panels):\n",
    "        if i != j:\n",
    "            A[i,j] = numpy.dot(get_source_panel_velocity(panels[j],panels[i].xc,panels[i].yc),panels[i].n)\n",
    "        else:\n",
    "            A[i,j] = 0.5\n",
    "            \n",
    "b = numpy.empty((N_panels), dtype='float')\n",
    "for i in range(N_panels):\n",
    "    b[i] = -freestream.u_inf.dot(numpy.array([u_inf,0]), (panels[i].n))\n"
   ]
  },
  {
   "cell_type": "code",
   "execution_count": null,
   "metadata": {
    "collapsed": true
   },
   "outputs": [],
   "source": [
    "sigma = numpy.linalg.solve(A,b)"
   ]
  },
  {
   "cell_type": "code",
   "execution_count": null,
   "metadata": {
    "collapsed": true
   },
   "outputs": [],
   "source": [
    "C = numpy.empty((N_panels, N_panels), dtype=float)\n",
    "\n",
    "for i in range(N_panels):\n",
    "    for j in range(N_panels):\n",
    "        if i != j:\n",
    "            C[i,j] = numpy.dot(get_source_panel_velocity(panels[j],panels[i].xc,panels[i].yc),panels[i].t)\n",
    "        else:\n",
    "            C[i,j] = 0.0\n",
    "            \n",
    "D = numpy.empty((N_panels), dtype='float')\n",
    "for i in range(N_panels):\n",
    "    D[i] = freestream.u_inf.dot(numpy.array([u_inf,0]), (panels[i].t))"
   ]
  },
  {
   "cell_type": "code",
   "execution_count": null,
   "metadata": {
    "collapsed": false
   },
   "outputs": [],
   "source": [
    "vt = numpy.dot(C,sigma) + D\n",
    "for i, panel in enumerate(panels):\n",
    "    panel.vt = vt[i]    \n",
    "for panel in panels:\n",
    "    panel.cp = 1.0 - (panel.vt)**2"
   ]
  },
  {
   "cell_type": "code",
   "execution_count": null,
   "metadata": {
    "collapsed": true
   },
   "outputs": [],
   "source": [
    "#Theoritical Solution.\n",
    "voverVsquared=numpy.array([0, 0.64, 1.01, 1.241, 1.378, 1.402, 1.411, 1.411, 1.399, 1.378, 1.35, 1.288, 1.228, 1.166, 1.109, 1.044, 0.956, 0.906])\n",
    "xtheo=numpy.array([0, 0.5, 1.25, 2.5, 5.0, 7.5, 10, 15, 20, 25, 30, 40, 50, 60, 70, 80, 90, 95])\n",
    "xtheo = xtheo/100\n",
    "xtheo -=0.5"
   ]
  },
  {
   "cell_type": "code",
   "execution_count": null,
   "metadata": {
    "collapsed": false
   },
   "outputs": [],
   "source": [
    "# #transforming into Joukowsky \n",
    "pyplot.figure(figsize=(17,5))\n",
    "pyplot.subplot(121)\n",
    "pyplot.grid(True)\n",
    "pyplot.xlabel('x', fontsize=16)\n",
    "pyplot.ylabel('y', fontsize=16)\n",
    "\n",
    "pyplot.plot(x_ends, y_ends, color='#CD2305', linestyle='-', linewidth=2)\n",
    "pyplot.scatter([p.xa for p in panels], [p.ya for p in panels], color='#CD2305', s=10)\n",
    "pyplot.scatter([p.xc for p in panels], [p.yc for p in panels], color='k', s=10, zorder=3)\n",
    "pyplot.axis(\"equal\")\n",
    "pyplot.quiver([p.xc for p in panels], [p.yc for p in panels], [p.n[0] for p in panels] ,[p.n[1] for p in panels], scale = 10, color='k',zorder=3)\n",
    "\n",
    "pyplot.legend([ 'panels', 'end-points', 'center-points'], \n",
    "           loc='best', prop={'size':16})\n",
    "\n",
    "pyplot.subplot(122)\n",
    "pyplot.grid(True)\n",
    "pyplot.xlabel('x', fontsize=16);\n",
    "pyplot.ylabel(r'$ C_p$', fontsize=16);\n",
    "pyplot.title('Number of panels : %d' % N_panels);\n",
    "pyplot.scatter([p.xc for p in panels], [p.cp for p in panels],color='#CD2305', s=40, zorder=2)\n",
    "pyplot.plot(xtheo,1-voverVsquared, color='b',linewidth=2)\n",
    "pyplot.xlim(-.6, .6)\n",
    "pyplot.ylim(1.4, -.8);\n",
    "pyplot.legend(['Analytical','Source panel Method'])"
   ]
  },
  {
   "cell_type": "markdown",
   "metadata": {},
   "source": [
    "# 3. Sum of the flux rates due to all panels"
   ]
  },
  {
   "cell_type": "code",
   "execution_count": null,
   "metadata": {
    "collapsed": false
   },
   "outputs": [],
   "source": [
    "print(\"Flux Rate =\", round(sum((sigma*[p.length for p in panels])),1)) "
   ]
  },
  {
   "cell_type": "markdown",
   "metadata": {},
   "source": [
    "Net flux rate has to be zero, as there is no flow entering or leaving the Airfoil\n"
   ]
  },
  {
   "cell_type": "code",
   "execution_count": null,
   "metadata": {
    "collapsed": true
   },
   "outputs": [],
   "source": []
  }
 ],
 "metadata": {
  "kernelspec": {
   "display_name": "Python 3",
   "language": "python",
   "name": "python3"
  },
  "language_info": {
   "codemirror_mode": {
    "name": "ipython",
    "version": 3
   },
   "file_extension": ".py",
   "mimetype": "text/x-python",
   "name": "python",
   "nbconvert_exporter": "python",
   "pygments_lexer": "ipython3",
   "version": "3.4.4"
  }
 },
 "nbformat": 4,
 "nbformat_minor": 0
}
