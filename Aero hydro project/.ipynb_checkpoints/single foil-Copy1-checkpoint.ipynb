{
 "cells": [
  {
   "cell_type": "code",
   "execution_count": 10,
   "metadata": {
    "collapsed": true
   },
   "outputs": [],
   "source": [
    "import math\n",
    "import numpy\n",
    "from matplotlib import pyplot\n",
    "%matplotlib inline"
   ]
  },
  {
   "cell_type": "code",
   "execution_count": 11,
   "metadata": {
    "collapsed": true
   },
   "outputs": [],
   "source": [
    "Uinf = 1.0                 # free-stream velocity\n",
    "al = 2.0*math.pi/180       # angle of attack"
   ]
  },
  {
   "cell_type": "code",
   "execution_count": 12,
   "metadata": {
    "collapsed": true
   },
   "outputs": [],
   "source": [
    "class Panel:\n",
    "    \"\"\"Contains information related to a panel.\"\"\"\n",
    "    def __init__(self, xa, ya, xb, yb):\n",
    "        \"\"\"Initializes the panel.\n",
    "        \n",
    "        Arguments\n",
    "        ---------\n",
    "        xa, ya -- coordinates of the first end-point of the panel.\n",
    "        xb, yb -- coordinates of the second end-point of the panel.\n",
    "        \"\"\"\n",
    "        self.xa, self.ya = xa, ya\n",
    "        self.xb, self.yb = xb, yb\n",
    "        \n",
    "        self.xc, self.yc = (xa+xb)/2, (ya+yb)/2            # collocation point (center-point)\n",
    "        self.length = math.sqrt((xb-xa)**2+(yb-ya)**2)     # length of the panel\n",
    "        \n",
    "        # orientation of the panel (angle between x-axis and panel's normal)\n",
    "        if xb-xa <= 0.:\n",
    "            self.beta = math.acos((yb-ya)/self.length)\n",
    "        elif xb-xa > 0.:\n",
    "            self.beta = math.pi + math.acos(-(yb-ya)/self.length)\n",
    "        \n",
    "        self.n = [ math.cos(self.beta), math.sin(self.beta)]\n",
    "        self.t = [-math.sin(self.beta), math.cos(self.beta)]\n",
    "        \n",
    "        self.kappa = 1                              # doublet strength\n",
    "        self.vt = 0                                 # tangential velocity\n",
    "        self.cp = 0                                 # pressure coefficient"
   ]
  },
  {
   "cell_type": "code",
   "execution_count": 20,
   "metadata": {
    "collapsed": false
   },
   "outputs": [
    {
     "name": "stdout",
     "output_type": "stream",
     "text": [
      "8\n"
     ]
    },
    {
     "data": {
      "image/png": "[encoded data removed]",
      "text/plain": [
       "<matplotlib.figure.Figure at 0x7f5c4e9b1710>"
      ]
     },
     "metadata": {},
     "output_type": "display_data"
    }
   ],
   "source": [
    "# plot NACA 2510 airfoil\n",
    "N_panels = 10                   # number of panels desired\n",
    "\n",
    "T = 0.1\n",
    "H = 0.02\n",
    "c = 1\n",
    "a = c/4\n",
    "r = (0.25+T/(3*math.sqrt(3)))                      # circle radius\n",
    "zeta_c = -4*a/(3*math.sqrt(3))*T + 1j*2*a*H        # circle center\n",
    "theta = numpy.linspace(0, 2*math.pi, N_panels+1)   # theta endpoints of panels\n",
    "zeta = r*numpy.exp(1j*theta)                       # endpoints of circle surface panels\n",
    "z_ends = (zeta+zeta_c) + a**2/(zeta+zeta_c)        # endpoints of airfoil surface panels\n",
    "x_ends,  y_ends = z_ends.real, z_ends.imag\n",
    "x_ends = numpy.delete(x_ends,[1,N_panels-1])       # delete 2nd and 2nd to last points to merge panels\n",
    "y_ends = numpy.delete(y_ends,[1,N_panels-1])\n",
    "N_panels = N_panels - 2\n",
    "\n",
    "# define the panels\n",
    "panels = numpy.empty(N_panels+1, dtype=object)\n",
    "for i in range(N_panels):\n",
    "    panels[i] = Panel(x_ends[i], y_ends[i], x_ends[i+1], y_ends[i+1])\n",
    "panels[-1] = Panel(x_ends[0], y_ends[0], x_ends[0]+1000, y_ends[0])\n",
    "\n",
    "# plot the panels\n",
    "size = 6\n",
    "pyplot.figure(figsize=(size, size))\n",
    "pyplot.grid(True)\n",
    "pyplot.xlabel('x', fontsize=16)\n",
    "pyplot.ylabel('y', fontsize=16)\n",
    "pyplot.plot(x_ends, y_ends, color='#CD2305', linestyle='-', linewidth=2)\n",
    "pyplot.scatter([p.xa for p in panels], [p.ya for p in panels], color='#CD2305', s=40)\n",
    "pyplot.scatter([p.xc for p in panels], [p.yc for p in panels], color='k', marker='x', s=40, zorder=3)\n",
    "pyplot.quiver([p.xc for p in panels], [p.yc for p in panels], [p.n[0] for p in panels], [p.n[1] for p in panels],\n",
    "              scale=10, width=0.005)\n",
    "pyplot.legend(['panels', 'end-points', 'center-points'], loc='best', prop={'size':16})\n",
    "pyplot.xlim(-0.75, 0.75)\n",
    "pyplot.ylim(-0.5, 0.5);\n",
    "print(N_panels)"
   ]
  },
  {
   "cell_type": "code",
   "execution_count": 14,
   "metadata": {
    "collapsed": true
   },
   "outputs": [],
   "source": [
    "def get_doublet_panel_velocity(p,x,y):\n",
    "    \"\"\"Evaluates the velocity components induced at coordinates (x,y) by a panel p.\n",
    "    \n",
    "    Arguments\n",
    "    ---------\n",
    "    p -- panel from which the velocity is induced\n",
    "    x -- x-coordinate in global frame\n",
    "    y -- y-coordinate in global frame\n",
    "    \n",
    "    Returns\n",
    "    -------\n",
    "    (u,v)-components of velocity at (x,y)\n",
    "    \"\"\"\n",
    "    \n",
    "    x_p =  math.sin(p.beta)*(x-p.xb) - math.cos(p.beta)*(y-p.yb)\n",
    "    y_p =  math.cos(p.beta)*(x-p.xb) + math.sin(p.beta)*(y-p.yb)\n",
    "    \n",
    "    u_p = -p.kappa/(2*math.pi)*(y_p/(x_p**2+y_p**2) - y_p/((x_p-p.length)**2+y_p**2))\n",
    "    v_p =  p.kappa/(2*math.pi)*(x_p/(x_p**2+y_p**2) - (x_p-p.length)/((x_p-p.length)**2+y_p**2))\n",
    "    \n",
    "    u =  math.sin(p.beta)*u_p + math.cos(p.beta)*v_p\n",
    "    v = -math.cos(p.beta)*u_p + math.sin(p.beta)*v_p\n",
    "    \n",
    "    return u, v"
   ]
  },
  {
   "cell_type": "code",
   "execution_count": 21,
   "metadata": {
    "collapsed": false
   },
   "outputs": [
    {
     "name": "stdout",
     "output_type": "stream",
     "text": [
      "[[ 1.65613526 -0.50346458 -0.10387507 -0.02615122  0.01855875  0.09624744\n",
      "   0.51803613 -1.65383222  0.82708231]\n",
      " [-0.76663392  2.13083188 -0.64753837 -0.08668255  0.05088812  0.37874521\n",
      "  -1.65624136  0.59875968  0.29755887]\n",
      " [-0.18501329 -0.9905159   2.7485881  -0.63885314  0.17969354 -1.7954021\n",
      "   0.51778682  0.1664618   0.19723337]\n",
      " [-0.10610964 -0.28968297 -2.59658214  6.29086968 -3.4617156  -0.15950463\n",
      "   0.23693996  0.09206992  0.14977263]\n",
      " [ 0.0882545   0.19119601  0.27996264 -4.47047362  7.52656979 -3.2096732\n",
      "  -0.30203002 -0.09628705 -0.15138808]\n",
      " [ 0.16563546  0.46250146 -1.84864308  0.23074372 -0.56688371  2.72315869\n",
      "  -0.99554013 -0.16825196 -0.19626801]\n",
      " [ 0.62437413 -1.72143032  0.39550884  0.06819833 -0.06921972 -0.5932593\n",
      "   1.99711146 -0.6992883  -0.29811116]\n",
      " [-1.61521081  0.44821255  0.09748403  0.02360262 -0.02056071 -0.09932441\n",
      "  -0.53687763  1.70437705 -0.8511781 ]\n",
      " [-1.          0.          0.          0.          0.          0.          0.\n",
      "   1.         -1.        ]]\n",
      "[[-0.14889784]\n",
      " [-0.09331203]\n",
      " [ 0.04136085]\n",
      " [ 0.37584874]\n",
      " [ 0.41279481]\n",
      " [ 0.03428269]\n",
      " [-0.03235916]\n",
      " [ 0.01307884]\n",
      " [ 0.        ]]\n"
     ]
    }
   ],
   "source": [
    "# compute the influence coefficient matrix\n",
    "A = numpy.zeros((N_panels+1, N_panels+1), dtype=float)\n",
    "\n",
    "for i, p_i in enumerate(panels[0:N_panels]):\n",
    "    for j, p_j in enumerate(panels):\n",
    "        A[i,j] = numpy.dot(get_doublet_panel_velocity(p_j, p_i.xc, p_i.yc), p_i.n)\n",
    "        if i == j:\n",
    "            A[i,j] *= 1.001\n",
    "A[-1,0] = -1\n",
    "A[-1,-2] = 1\n",
    "A[-1,-1] = -1\n",
    "\n",
    "# compute the RHS of the linear system\n",
    "b = numpy.zeros((N_panels+1, 1), dtype=float)\n",
    "for i, p_i in enumerate(panels[0:N_panels]):\n",
    "    b[i] = -numpy.dot(numpy.array([Uinf*math.cos(al), Uinf*math.sin(al)]), p_i.n)\n",
    "    \n",
    "print (A)\n",
    "print (b)"
   ]
  },
  {
   "cell_type": "code",
   "execution_count": 16,
   "metadata": {
    "collapsed": false
   },
   "outputs": [],
   "source": [
    "# solves the linear system\n",
    "kappa = numpy.linalg.solve(A, b)\n",
    "\n",
    "for i, panel in enumerate(panels):\n",
    "    panel.kappa = float(kappa[i])\n"
   ]
  },
  {
   "cell_type": "code",
   "execution_count": 17,
   "metadata": {
    "collapsed": true
   },
   "outputs": [],
   "source": [
    "for i, p_i in enumerate(panels[0:N_panels]):\n",
    "    vt = numpy.array([0])\n",
    "    for j, p_j in enumerate(panels):\n",
    "        if i != j:\n",
    "            vt = vt + numpy.dot(get_doublet_panel_velocity(p_j, p_i.xc, p_i.yc), p_i.t)\n",
    "    if i == 0:\n",
    "        R = math.sqrt((panels[1].xc-panels[0].xc)**2 + (panels[1].yc-panels[0].yc)**2)\n",
    "        vt = vt - 0.5*(panels[1].kappa-panels[0].kappa)/R\n",
    "    elif i == N_panels-1:\n",
    "        R = math.sqrt((panels[N_panels-1].xc-panels[N_panels-2].xc)**2 + (panels[N_panels-1].yc-panels[N_panels-2].yc)**2)\n",
    "        vt = vt - 0.5*(panels[N_panels-1].kappa-panels[N_panels-2].kappa)/R\n",
    "    else:\n",
    "        R = math.sqrt((panels[i+1].xc-panels[i-1].xc)**2 + (panels[i+1].yc-panels[i-1].yc)**2)\n",
    "        vt = vt - 0.5*(panels[i+1].kappa-panels[i-1].kappa)/R\n",
    "    vt = vt + numpy.dot(numpy.array([Uinf*math.cos(al), Uinf*math.sin(al)]), p_i.t)\n",
    "    p_i.vt = float(vt)\n",
    "    p_i.cp = 1.0 - (p_i.vt/Uinf)**2"
   ]
  },
  {
   "cell_type": "code",
   "execution_count": 18,
   "metadata": {
    "collapsed": false
   },
   "outputs": [
    {
     "data": {
      "image/png": "[encoded data removed]",
      "text/plain": [
       "<matplotlib.figure.Figure at 0x7f5c4cab0710>"
      ]
     },
     "metadata": {},
     "output_type": "display_data"
    }
   ],
   "source": [
    "# plots the surface pressure coefficient\n",
    "pyplot.figure(figsize=(10, 6))\n",
    "pyplot.grid(True)\n",
    "pyplot.xlabel('x', fontsize=16)\n",
    "pyplot.ylabel('$C_p$', fontsize=16)\n",
    "\n",
    "pyplot.scatter([p.xc for p in panels[0:N_panels]], [p.cp for p in panels[0:N_panels]], color='#CD2305', s=40, zorder=2)\n",
    "pyplot.title('Number of panels : %d' % N_panels, fontsize=16)\n",
    "pyplot.legend(['analytical', 'source panel method'], loc='best', prop={'size':16})\n",
    "pyplot.xlim(-0.6, 0.6)\n",
    "pyplot.ylim(-1, 1.5)\n",
    "pyplot.gca().invert_yaxis();"
   ]
  },
  {
   "cell_type": "code",
   "execution_count": null,
   "metadata": {
    "collapsed": true
   },
   "outputs": [],
   "source": []
  }
 ],
 "metadata": {
  "kernelspec": {
   "display_name": "Python 3",
   "language": "python",
   "name": "python3"
  },
  "language_info": {
   "codemirror_mode": {
    "name": "ipython",
    "version": 3
   },
   "file_extension": ".py",
   "mimetype": "text/x-python",
   "name": "python",
   "nbconvert_exporter": "python",
   "pygments_lexer": "ipython3",
   "version": "3.4.4"
  }
 },
 "nbformat": 4,
 "nbformat_minor": 0
}
