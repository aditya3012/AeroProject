{
 "cells": [
  {
   "cell_type": "code",
   "execution_count": 25,
   "metadata": {
    "collapsed": false
   },
   "outputs": [],
   "source": [
    "import numpy \n",
    "from math import * \n",
    "from scipy import integrate\n",
    "from matplotlib import pyplot \n",
    "%matplotlib inline"
   ]
  },
  {
   "cell_type": "code",
   "execution_count": 26,
   "metadata": {
    "collapsed": false
   },
   "outputs": [],
   "source": [
    "# plot NACA 2510 airfoil\n",
    "N_panels = 10                    # number of panels desired\n",
    "\n",
    "T = 0.1\n",
    "H = 0.02\n",
    "c = 1\n",
    "a = c/4\n",
    "r = (0.25+T/(3*sqrt(3)))*c                      # circle radius\n",
    "zeta_c = -4*a/(3*sqrt(3))*T + 1j*2*a*H        # circle center\n",
    "theta = numpy.linspace(0, 2*pi, N_panels+1)   # theta endpoints of panels\n",
    "zeta = r*numpy.exp(1j*theta)                       # endpoints of circle surface panels\n",
    "z_ends = (zeta+zeta_c) + a**2/(zeta+zeta_c)        # endpoints of airfoil surface panels\n",
    "#x_ends,  y_ends = z_ends.real, z_ends.imag\n",
    "\n",
    "xm = z_ends.real\n",
    "ym = z_ends.imag\n",
    "\n",
    "#xm = xm[::-1]\n",
    "#ym = ym[::-1]\n",
    "\n",
    "\n"
   ]
  },
  {
   "cell_type": "code",
   "execution_count": 29,
   "metadata": {
    "collapsed": false
   },
   "outputs": [],
   "source": [
    "Nfpanels = 10                    # number of panels desired\n",
    "\n",
    "Tf = 0.1\n",
    "Hf = 0.02\n",
    "cf = 0.2\n",
    "af = cf/4\n",
    "rf = (0.25+Tf/(3*sqrt(3)))*c                              # circle radius\n",
    "zeta_cf = -4*a/(3*sqrt(3))*Tf + 1j*2*a*Hf               # circle center\n",
    "thetaf = numpy.linspace(0, 2*pi, Nfpanels+1)            # theta endpoints of panels\n",
    "zetaf = rf*numpy.exp(1j*thetaf)                         # endpoints of circle surface panels\n",
    "z_endsf = (zetaf+zeta_cf) + a**2/(zetaf+zeta_cf)        # endpoints of airfoil surface panels\n",
    "#xfends,  yfends = z_ends.real, z_ends.imag\n",
    "\n",
    "\n",
    "xf = z_endsf.real +0.6\n",
    "yf = z_endsf.imag-0.05\n",
    "\n"
   ]
  },
  {
   "cell_type": "code",
   "execution_count": 30,
   "metadata": {
    "collapsed": false
   },
   "outputs": [
    {
     "data": {
      "text/plain": [
       "(-0.60000000000000009, 1.2, -0.080000000000000002, 0.080000000000000002)"
      ]
     },
     "execution_count": 30,
     "metadata": {},
     "output_type": "execute_result"
    },
    {
     "data": {
      "image/png": "[encoded data removed]",
      "text/plain": [
       "<matplotlib.figure.Figure at 0x7f4bf52642e8>"
      ]
     },
     "metadata": {},
     "output_type": "display_data"
    }
   ],
   "source": [
    "# #transforming into Joukowsky \n",
    "pyplot.figure(figsize=(17,5))\n",
    "\n",
    "pyplot.grid(True)\n",
    "pyplot.xlabel('x', fontsize=16)\n",
    "pyplot.ylabel('y', fontsize=16)\n",
    "\n",
    "pyplot.plot(xm, ym, color='#CD2305', linestyle='-', linewidth=2)\n",
    "pyplot.plot(xf, yf, color='#CD2305', linestyle='-', linewidth=2)\n",
    "pyplot.axis(\"equal\")"
   ]
  },
  {
   "cell_type": "markdown",
   "metadata": {
    "collapsed": false
   },
   "source": [
    "# flap angle\n",
    "def flap_theta(xf, yf, xc, yc, thetaf):\n",
    "    \n",
    "    thetaf = theta * pi/180\n",
    "    \n",
    "    xf = xf + xc\n",
    "    yf = yf + yc\n",
    "    \n",
    "    #r = sqrt(xf**2+yf**2)\n",
    "    xf = r*cos(theta)\n",
    "    yf = r*sin(theta)\n",
    "    \n",
    "    xf1 = xf+xc\n",
    "    yf1 = yf+yc\n",
    "    \n",
    "    return xf1, yf1"
   ]
  },
  {
   "cell_type": "markdown",
   "metadata": {
    "collapsed": false
   },
   "source": [
    "xc = 0.05\n",
    "yc = 0.01\n",
    "theta = 20\n",
    "\n",
    "xf, yf = flap_theta(xf, yf, xc, yc, theta)\n",
    "\n",
    "pyplot.figure(figsize=(17,5))\n",
    "pyplot.plot(x_ends, y_ends, color='#CD2305', linestyle='-', linewidth=2)\n",
    "pyplot.plot(xf, yf, color='#CD2305', linestyle='-', linewidth=2)\n",
    "pyplot.axis(\"equal\")\n"
   ]
  },
  {
   "cell_type": "code",
   "execution_count": 9,
   "metadata": {
    "collapsed": true
   },
   "outputs": [],
   "source": [
    "class Panel:\n",
    "\n",
    "    def __init__(self, xa, ya, xb, yb):\n",
    "\n",
    "        # End Points\n",
    "        self.xa, self.ya = xa, ya\n",
    "        self.xb, self.yb = xb, yb\n",
    "        \n",
    "        # Center Point\n",
    "        self.xc, self.yc = (xa+xb)/2, (ya+yb)/2       \n",
    "        \n",
    "        # Length\n",
    "        self.length = sqrt((xb-xa)**2+(yb-ya)**2)\n",
    "        \n",
    "        # Orientation\n",
    "        if xb-xa <= 0.:\n",
    "            self.beta = acos((yb-ya)/self.length)\n",
    "        elif xb-xa > 0.:\n",
    "            self.beta = pi + acos(-(yb-ya)/self.length)\n",
    "                \n",
    "                               \n",
    "        # Normal and Tangental Coponents\n",
    "        self.n= [ cos(self.beta), sin(self.beta)]\n",
    "        self.t= [-sin(self.beta), cos(self.beta)] \n",
    "        \n",
    "        # Strength  \n",
    "        self.kappa = 1.0 \n",
    "        \n",
    "        # Pressure Coeffecient          \n",
    "        self.cp = 0.\n",
    "        \n",
    "        # Tangent Velocity      \n",
    "        self.vt = 0."
   ]
  },
  {
   "cell_type": "code",
   "execution_count": 10,
   "metadata": {
    "collapsed": true
   },
   "outputs": [],
   "source": [
    "Uinf = 1.0                    # free-stream velocity\n",
    "alpha = 2.0*pi/180            # angle of attack"
   ]
  },
  {
   "cell_type": "code",
   "execution_count": null,
   "metadata": {
    "collapsed": true
   },
   "outputs": [],
   "source": []
  },
  {
   "cell_type": "code",
   "execution_count": 11,
   "metadata": {
    "collapsed": true
   },
   "outputs": [],
   "source": [
    "#Flap\n",
    "Nfpanels = 5\n",
    "T  = 0.1\n",
    "c = 0.2 \n",
    "H = 0.0\n",
    "a = c/4\n",
    "theta = numpy.linspace(0, 2*pi, Nfpanels+1) \n",
    "Zeta_c = -4*a/(3*sqrt(3))*T+1j*2*H\n",
    "r_s = ((1/4)+(T/(3*sqrt(3))))*c\n",
    " \n",
    "Zeta = (r_s)*numpy.exp(1j*(theta))\n",
    "\n",
    "Jf = (Zeta+Zeta_c) + a**2/(Zeta+Zeta_c)\n",
    "\n",
    "xf = Jf.real+0.6\n",
    "yf = Jf.imag-0.05\n",
    "\n",
    "\n",
    "\n",
    "# define the panels for flap\n",
    "\n",
    "xf = numpy.delete(xf,[1,Nfpanels-1])       # delete 2nd and 2nd to last points to merge panels\n",
    "yf = numpy.delete(yf,[1,Nfpanels-1])\n",
    "Nfpanels = Nfpanels - 2\n",
    "\n",
    "panelsf = numpy.empty(Nfpanels+1, dtype=object)\n",
    "for i in range(Nfpanels):\n",
    "    panelsf[i] = Panel(xf[i], yf[i], xf[i+1], yf[i+1])\n",
    "panelsf[-1] = Panel(xf[0], yf[0], xf[0]+1000, yf[0])"
   ]
  },
  {
   "cell_type": "code",
   "execution_count": 12,
   "metadata": {
    "collapsed": false
   },
   "outputs": [
    {
     "ename": "NameError",
     "evalue": "name 'x_ends' is not defined",
     "output_type": "error",
     "traceback": [
      "\u001b[1;31m---------------------------------------------------------------------------\u001b[0m",
      "\u001b[1;31mNameError\u001b[0m                                 Traceback (most recent call last)",
      "\u001b[1;32m<ipython-input-12-1f7f764101b4>\u001b[0m in \u001b[0;36m<module>\u001b[1;34m()\u001b[0m\n\u001b[0;32m      5\u001b[0m \u001b[0mpyplot\u001b[0m\u001b[1;33m.\u001b[0m\u001b[0mxlabel\u001b[0m\u001b[1;33m(\u001b[0m\u001b[1;34m'x'\u001b[0m\u001b[1;33m,\u001b[0m \u001b[0mfontsize\u001b[0m\u001b[1;33m=\u001b[0m\u001b[1;36m16\u001b[0m\u001b[1;33m)\u001b[0m\u001b[1;33m\u001b[0m\u001b[0m\n\u001b[0;32m      6\u001b[0m \u001b[0mpyplot\u001b[0m\u001b[1;33m.\u001b[0m\u001b[0mylabel\u001b[0m\u001b[1;33m(\u001b[0m\u001b[1;34m'y'\u001b[0m\u001b[1;33m,\u001b[0m \u001b[0mfontsize\u001b[0m\u001b[1;33m=\u001b[0m\u001b[1;36m16\u001b[0m\u001b[1;33m)\u001b[0m\u001b[1;33m\u001b[0m\u001b[0m\n\u001b[1;32m----> 7\u001b[1;33m \u001b[0mpyplot\u001b[0m\u001b[1;33m.\u001b[0m\u001b[0mplot\u001b[0m\u001b[1;33m(\u001b[0m\u001b[0mx_ends\u001b[0m\u001b[1;33m,\u001b[0m \u001b[0my_ends\u001b[0m\u001b[1;33m,\u001b[0m \u001b[0mcolor\u001b[0m\u001b[1;33m=\u001b[0m\u001b[1;34m'#CD2305'\u001b[0m\u001b[1;33m,\u001b[0m \u001b[0mlinestyle\u001b[0m\u001b[1;33m=\u001b[0m\u001b[1;34m'-'\u001b[0m\u001b[1;33m,\u001b[0m \u001b[0mlinewidth\u001b[0m\u001b[1;33m=\u001b[0m\u001b[1;36m2\u001b[0m\u001b[1;33m)\u001b[0m\u001b[1;33m\u001b[0m\u001b[0m\n\u001b[0m\u001b[0;32m      8\u001b[0m \u001b[0mpyplot\u001b[0m\u001b[1;33m.\u001b[0m\u001b[0mplot\u001b[0m\u001b[1;33m(\u001b[0m\u001b[0mxf\u001b[0m\u001b[1;33m,\u001b[0m \u001b[0myf\u001b[0m\u001b[1;33m,\u001b[0m \u001b[0mcolor\u001b[0m\u001b[1;33m=\u001b[0m\u001b[1;34m'#CD2305'\u001b[0m\u001b[1;33m,\u001b[0m \u001b[0mlinestyle\u001b[0m\u001b[1;33m=\u001b[0m\u001b[1;34m'-'\u001b[0m\u001b[1;33m,\u001b[0m \u001b[0mlinewidth\u001b[0m\u001b[1;33m=\u001b[0m\u001b[1;36m2\u001b[0m\u001b[1;33m)\u001b[0m\u001b[1;33m\u001b[0m\u001b[0m\n\u001b[0;32m      9\u001b[0m \u001b[0mpyplot\u001b[0m\u001b[1;33m.\u001b[0m\u001b[0mscatter\u001b[0m\u001b[1;33m(\u001b[0m\u001b[1;33m[\u001b[0m\u001b[0mp\u001b[0m\u001b[1;33m.\u001b[0m\u001b[0mxa\u001b[0m \u001b[1;32mfor\u001b[0m \u001b[0mp\u001b[0m \u001b[1;32min\u001b[0m \u001b[0mpanels\u001b[0m\u001b[1;33m]\u001b[0m\u001b[1;33m,\u001b[0m \u001b[1;33m[\u001b[0m\u001b[0mp\u001b[0m\u001b[1;33m.\u001b[0m\u001b[0mya\u001b[0m \u001b[1;32mfor\u001b[0m \u001b[0mp\u001b[0m \u001b[1;32min\u001b[0m \u001b[0mpanels\u001b[0m\u001b[1;33m]\u001b[0m\u001b[1;33m,\u001b[0m \u001b[0mcolor\u001b[0m\u001b[1;33m=\u001b[0m\u001b[1;34m'#CD2305'\u001b[0m\u001b[1;33m,\u001b[0m \u001b[0ms\u001b[0m\u001b[1;33m=\u001b[0m\u001b[1;36m40\u001b[0m\u001b[1;33m)\u001b[0m\u001b[1;33m\u001b[0m\u001b[0m\n",
      "\u001b[1;31mNameError\u001b[0m: name 'x_ends' is not defined"
     ]
    },
    {
     "data": {
      "image/png": "[encoded data removed]",
      "text/plain": [
       "<matplotlib.figure.Figure at 0x7f4bfc2af860>"
      ]
     },
     "metadata": {},
     "output_type": "display_data"
    }
   ],
   "source": [
    "# plot the panels\n",
    "#size = 6\n",
    "pyplot.figure(figsize=(15, 10))\n",
    "pyplot.grid(True)\n",
    "pyplot.xlabel('x', fontsize=16)\n",
    "pyplot.ylabel('y', fontsize=16)\n",
    "pyplot.plot(x_ends, y_ends, color='#CD2305', linestyle='-', linewidth=2)\n",
    "pyplot.plot(xf, yf, color='#CD2305', linestyle='-', linewidth=2)\n",
    "pyplot.scatter([p.xa for p in panels], [p.ya for p in panels], color='#CD2305', s=40)\n",
    "pyplot.scatter([p.xc for p in panels], [p.yc for p in panels], color='k', marker='x', s=40, zorder=3)\n",
    "pyplot.quiver([p.xc for p in panels], [p.yc for p in panels], [p.n[0] for p in panels], [p.n[1] for p in panels],\n",
    "              scale=25, width=0.005)\n",
    "\n",
    "pyplot.scatter([p.xa for p in panelsf], [p.ya for p in panelsf], color='#CD2305', s=40)\n",
    "pyplot.scatter([p.xc for p in panelsf], [p.yc for p in panelsf], color='k', marker='x', s=40, zorder=3)\n",
    "pyplot.quiver([p.xc for p in panelsf], [p.yc for p in panelsf], [p.n[0] for p in panelsf], [p.n[1] for p in panelsf],\n",
    "              scale=50, width=0.005)\n",
    "pyplot.legend(['panels', 'end-points', 'center-points'], loc='best', prop={'size':16})\n",
    "pyplot.xlim(-0.75, 0.75)\n",
    "pyplot.ylim(-0.5, 0.5);"
   ]
  },
  {
   "cell_type": "code",
   "execution_count": null,
   "metadata": {
    "collapsed": true
   },
   "outputs": [],
   "source": [
    "def get_doublet_panel_velocity(p,x,y):\n",
    "    \"\"\"Evaluates the velocity components induced at coordinates (x,y) by a panel p.\n",
    "    \n",
    "    Arguments\n",
    "    ---------\n",
    "    p -- panel from which the velocity is induced\n",
    "    x -- x-coordinate in global frame\n",
    "    y -- y-coordinate in global frame\n",
    "    \n",
    "    Returns\n",
    "    -------\n",
    "    (u,v)-components of velocity at (x,y)\n",
    "    \"\"\"\n",
    "    \n",
    "    x_p =  sin(p.beta)*(x-p.xb) - cos(p.beta)*(y-p.yb)\n",
    "    y_p =  cos(p.beta)*(x-p.xb) + sin(p.beta)*(y-p.yb)\n",
    "    \n",
    "    u_p = -p.kappa/(2*pi)*(y_p/(x_p**2+y_p**2) - y_p/((x_p-p.length)**2+y_p**2))\n",
    "    v_p =  p.kappa/(2*pi)*(x_p/(x_p**2+y_p**2) - (x_p-p.length)/((x_p-p.length)**2+y_p**2))\n",
    "    \n",
    "    u =  sin(p.beta)*u_p + cos(p.beta)*v_p\n",
    "    v = -cos(p.beta)*u_p + sin(p.beta)*v_p\n",
    "    \n",
    "    return u, v"
   ]
  },
  {
   "cell_type": "code",
   "execution_count": null,
   "metadata": {
    "collapsed": false
   },
   "outputs": [],
   "source": [
    "Nt = numpy.concatenate((panels,panelsf))\n",
    "No = 2*(N_panels+1)\n",
    "print (No)"
   ]
  },
  {
   "cell_type": "code",
   "execution_count": null,
   "metadata": {
    "collapsed": false
   },
   "outputs": [],
   "source": [
    "# compute the influence coefficient matrix\n",
    "def source_matrix(Nt):\n",
    "    No = 2*(N_panels+1)\n",
    "    A = numpy.zeros((No, No), dtype=float)\n",
    "    for i, p_i in enumerate(Nt[0:N_panels]):\n",
    "        for j, p_j in enumerate(Nt):\n",
    "            A[i,j] = numpy.dot(get_doublet_panel_velocity(p_j, p_i.xc, p_i.yc), p_i.n)\n",
    "            if i == j:\n",
    "                A[i,j] *= 1.001\n",
    "    A[-1,0] = -1\n",
    "    A[-1,-2] = 1\n",
    "    A[-1,-1] = -1\n",
    "    \n",
    "    return A\n",
    "\n"
   ]
  },
  {
   "cell_type": "code",
   "execution_count": null,
   "metadata": {
    "collapsed": true
   },
   "outputs": [],
   "source": [
    "# compute the RHS of the linear system\n",
    "def build_rhs(panels, Uinf):\n",
    "    #No = 2*(N_panels+1)\n",
    "    b = numpy.zeros((No, 1), dtype=float)\n",
    "    for i, p_i in enumerate(Nt[0:N_panels]):\n",
    "        b[i] = -numpy.dot(numpy.array([Uinf*cos(alpha), Uinf*sin(alpha)]), p_i.n)\n",
    "    \n",
    "    return b"
   ]
  },
  {
   "cell_type": "code",
   "execution_count": null,
   "metadata": {
    "collapsed": false
   },
   "outputs": [],
   "source": [
    "# solves the linear system\n",
    "kappa = numpy.linalg.solve(source_matrix(Nt),build_rhs(panels, Uinf))\n",
    "\n",
    "for i, panel in enumerate(Nt):\n",
    "    panel.kappa = float(kappa[i])"
   ]
  },
  {
   "cell_type": "code",
   "execution_count": null,
   "metadata": {
    "collapsed": false
   },
   "outputs": [],
   "source": [
    "for i, p_i in enumerate(Nt[0:No]):\n",
    "    vt = numpy.array([0])\n",
    "    for j, p_j in enumerate(Nt):\n",
    "        if i != j:\n",
    "            vt = vt + numpy.dot(get_doublet_panel_velocity(p_j, p_i.xc, p_i.yc), p_i.t)\n",
    "    if i == 0:\n",
    "        R = sqrt((Nt[1].xc-Nt[0].xc)**2 + (Nt[1].yc-Nt[0].yc)**2)\n",
    "        vt = vt - 0.5*(Nt[1].kappa-Nt[0].kappa)/R\n",
    "    elif i == No-1:\n",
    "        R = sqrt((Nt[No-1].xc-Nt[No-2].xc)**2 + (Nt[No-1].yc-Nt[No-2].yc)**2)\n",
    "        vt = vt - 0.5*(Nt[No-1].kappa-Nt[No-2].kappa)/R\n",
    "    else:\n",
    "        R = sqrt((Nt[i+1].xc-Nt[i-1].xc)**2 + (Nt[i+1].yc-Nt[i-1].yc)**2)\n",
    "        vt = vt - 0.5*(Nt[i+1].kappa-Nt[i-1].kappa)/R\n",
    "    vt = vt + numpy.dot(numpy.array([Uinf*cos(alpha), Uinf*sin(alpha)]), p_i.t)\n",
    "    p_i.vt = float(vt)\n",
    "    p_i.cp = 1.0 - (p_i.vt/Uinf)**2"
   ]
  },
  {
   "cell_type": "code",
   "execution_count": null,
   "metadata": {
    "collapsed": false
   },
   "outputs": [],
   "source": [
    "# create surface of airfoil for analytical solution\n",
    "theta = numpy.linspace(0.01, 2*pi-0.01, 41)      # theta coordinates\n",
    "zeta = r*numpy.exp(1j*theta)                          # circle coordinates\n",
    "z = (zeta+zeta_c) + a**2/(zeta+zeta_c)                # airfoil coordinates\n",
    "\n",
    "# flow parameters\n",
    "kappa = 2*pi*Uinf*r**2                   # doublet strength for circle with radius r\n",
    "Gam = 4*pi*r*Uinf*numpy.sin(alpha+2*H)      # vortex strength\n",
    "\n",
    "# compute the complex velocity on the surface\n",
    "w = Uinf - kappa/(2*pi)/zeta**2 + 1j*Gam/(2*pi)/zeta\n",
    "zeta = zeta*numpy.exp(1j*alpha)"
   ]
  },
  {
   "cell_type": "code",
   "execution_count": null,
   "metadata": {
    "collapsed": true
   },
   "outputs": [],
   "source": [
    "# Joukowski transformation\n",
    "w = w/(1 - a**2/(zeta+zeta_c)**2)\n",
    "#cp_analytical = 1 - numpy.abs(w)**2/Uinf**2"
   ]
  },
  {
   "cell_type": "code",
   "execution_count": null,
   "metadata": {
    "collapsed": false
   },
   "outputs": [],
   "source": [
    "# plots the surface pressure coefficient\n",
    "pyplot.figure(figsize=(10, 6))\n",
    "pyplot.grid(True)\n",
    "pyplot.xlabel('x', fontsize=16)\n",
    "pyplot.ylabel('$C_p$', fontsize=16)\n",
    "#pyplot.plot(z.real, cp_analytical, color='b', linestyle='-', linewidth=1, zorder=1)\n",
    "pyplot.scatter([p.xc for p in Nt[0:No]], [p.cp for p in Nt[0:No]], color='#CD2305', s=40, zorder=2)\n",
    "pyplot.title('Number of panels : %d' % No, fontsize=16)\n",
    "#pyplot.legend(['analytical', 'source panel method'], loc='best', prop={'size':16})\n",
    "pyplot.xlim(-0.6, 0.6)\n",
    "pyplot.ylim(-1, 1.5)\n",
    "pyplot.gca().invert_yaxis();"
   ]
  },
  {
   "cell_type": "code",
   "execution_count": null,
   "metadata": {
    "collapsed": true
   },
   "outputs": [],
   "source": []
  }
 ],
 "metadata": {
  "kernelspec": {
   "display_name": "Python 3",
   "language": "python",
   "name": "python3"
  },
  "language_info": {
   "codemirror_mode": {
    "name": "ipython",
    "version": 3
   },
   "file_extension": ".py",
   "mimetype": "text/x-python",
   "name": "python",
   "nbconvert_exporter": "python",
   "pygments_lexer": "ipython3",
   "version": "3.4.4"
  }
 },
 "nbformat": 4,
 "nbformat_minor": 0
}
