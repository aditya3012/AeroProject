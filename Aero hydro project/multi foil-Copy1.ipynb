{
 "cells": [
  {
   "cell_type": "code",
   "execution_count": 1,
   "metadata": {
    "collapsed": true
   },
   "outputs": [],
   "source": [
    "import math\n",
    "import numpy\n",
    "from matplotlib import pyplot\n",
    "%matplotlib inline"
   ]
  },
  {
   "cell_type": "code",
   "execution_count": 2,
   "metadata": {
    "collapsed": false
   },
   "outputs": [
    {
     "data": {
      "image/png": "[encoded data removed]",
      "text/plain": [
       "<matplotlib.figure.Figure at 0x7f1b35871748>"
      ]
     },
     "metadata": {},
     "output_type": "display_data"
    }
   ],
   "source": [
    "# reads of the geometry from a data file\n",
    "with open ('naca4415-il2 3.csv') as file_name:\n",
    "    x_ends, y_ends = numpy.loadtxt(file_name, dtype=float, delimiter=',', unpack=True)\n",
    "    \n",
    "\n",
    "with open ('naca4415-il2 3.csv') as file_name:\n",
    "    xf, yf = numpy.loadtxt(file_name, dtype=float, delimiter=',', unpack=True)\n",
    "    xf = xf + 83\n",
    "    yf = yf - 2\n",
    "    \n",
    "# plots the geometry\n",
    "%matplotlib inline\n",
    "#size = 1\n",
    "pyplot.figure(figsize=(17,2))\n",
    "pyplot.grid(True)\n",
    "pyplot.xlabel('x', fontsize=16)\n",
    "pyplot.ylabel('y', fontsize=16)\n",
    "pyplot.plot(x_ends, y_ends, xf, yf, color='k', linestyle='-', linewidth=2);"
   ]
  },
  {
   "cell_type": "code",
   "execution_count": 3,
   "metadata": {
    "collapsed": true
   },
   "outputs": [],
   "source": [
    "class Panel:\n",
    "    \"\"\"Contains information related to a panel.\"\"\"\n",
    "    def __init__(self, xa, ya, xb, yb):\n",
    "        \"\"\"Initializes the panel.\n",
    "        \n",
    "        Arguments\n",
    "        ---------\n",
    "        xa, ya -- coordinates of the first end-point of the panel.\n",
    "        xb, yb -- coordinates of the second end-point of the panel.\n",
    "        \"\"\"\n",
    "        self.xa, self.ya = xa, ya\n",
    "        self.xb, self.yb = xb, yb\n",
    "        \n",
    "        self.xc, self.yc = (xa+xb)/2, (ya+yb)/2            # collocation point (center-point)\n",
    "        self.length = math.sqrt((xb-xa)**2+(yb-ya)**2)     # length of the panel\n",
    "        \n",
    "        # orientation of the panel (angle between x-axis and panel's normal)\n",
    "        if xb-xa <= 0.:\n",
    "            self.beta = math.acos((yb-ya)/self.length)\n",
    "        elif xb-xa > 0.:\n",
    "            self.beta = math.pi + math.acos(-(yb-ya)/self.length)\n",
    "        \n",
    "        self.n = [ math.cos(self.beta), math.sin(self.beta)]\n",
    "        self.t = [-math.sin(self.beta), math.cos(self.beta)]\n",
    "        \n",
    "        self.kappa = 1                              # doublet strength\n",
    "        self.vt = 0                                 # tangential velocity\n",
    "        self.cp = 0                                 # pressure coefficient"
   ]
  },
  {
   "cell_type": "code",
   "execution_count": 4,
   "metadata": {
    "collapsed": false
   },
   "outputs": [],
   "source": [
    "\n",
    "# plot NACA 2510 airfoil\n",
    "N_panels = 11                  # number of panels desired\n",
    "\n",
    "\"\"\"\n",
    "T  = 0.1\n",
    "c = 1\n",
    "H = 0.02\n",
    "\n",
    "a = c/4\n",
    "r = (0.25+T/(3*math.sqrt(3)))                      # circle radius\n",
    "zeta_c = -4*a/(3*math.sqrt(3))*T + 1j*2*a*H        # circle center\n",
    "theta = numpy.linspace(0, 2*math.pi, N_panels+1)   # theta endpoints of panels\n",
    "zeta = r*numpy.exp(1j*theta)                       # endpoints of circle surface panels\n",
    "z_ends = (zeta+zeta_c) + a**2/(zeta+zeta_c)        # endpoints of airfoil surface panels\n",
    "x_ends,  y_ends = z_ends.real, z_ends.imag\n",
    "\"\"\"\n",
    "#x_ends = numpy.delete(x_ends,[1,N_panels-1])       # delete 2nd and 2nd to last points to merge panels\n",
    "#y_ends = numpy.delete(y_ends,[1,N_panels-1])\n",
    "#N_panels = N_panels - 2\n",
    "# define the panels\n",
    "panels = numpy.empty(N_panels+1, dtype=object)\n",
    "for i in range(N_panels):\n",
    "    panels[i] = Panel(x_ends[i], y_ends[i], x_ends[i+1], y_ends[i+1])\n",
    "panels[-1] = Panel(x_ends[0], y_ends[0], x_ends[0]+1000, y_ends[0])\n"
   ]
  },
  {
   "cell_type": "code",
   "execution_count": 5,
   "metadata": {
    "collapsed": false
   },
   "outputs": [],
   "source": [
    "\n",
    "Nfpanels = 11                 # number of panels desired\n",
    "\n",
    "\"\"\"\n",
    "Tf  = 0.1\n",
    "cf = 1\n",
    "Hf = 0.02\n",
    "\n",
    "af = cf/4\n",
    "rf = (0.25+Tf/(3*math.sqrt(3)))                      # circle radius\n",
    "zeta_cf = -4*af/(3*math.sqrt(3))*Tf + 1j*2*Hf*af        # circle center\n",
    "thetaf = numpy.linspace(0, 2*math.pi, Nfpanels+1)   # theta endpoints of panels\n",
    "zetaf = rf*numpy.exp(1j*thetaf)                       # endpoints of circle surface panels\n",
    "z_endsf = (zetaf+zeta_cf) + af**2/(zetaf+zeta_cf)        # endpoints of airfoil surface panels\n",
    "xfends,  yfends = z_endsf.real, z_endsf.imag\n",
    "\n",
    "xf = xfends + 1.08\n",
    "yf = yfends - 0.1\n",
    "\"\"\"\n",
    "\n",
    "#xf = numpy.delete(xf,[1,Nfpanels-1])       # delete 2nd and 2nd to last points to merge panels\n",
    "#yf = numpy.delete(yf,[1,Nfpanels-1])\n",
    "#Nfpanels = Nfpanels - 2\n",
    "\n",
    "# define the panels\n",
    "panelsf = numpy.empty(Nfpanels+1, dtype=object)\n",
    "for i in range(Nfpanels):\n",
    "    panelsf[i] = Panel(xf[i], yf[i], xf[i+1], yf[i+1])\n",
    "panelsf[-1] = Panel(xf[0], yf[0], xf[0]+1000, yf[0])\n"
   ]
  },
  {
   "cell_type": "code",
   "execution_count": 6,
   "metadata": {
    "collapsed": false
   },
   "outputs": [
    {
     "data": {
      "image/png": "[encoded data removed]",
      "text/plain": [
       "<matplotlib.figure.Figure at 0x7f1b32de99b0>"
      ]
     },
     "metadata": {},
     "output_type": "display_data"
    }
   ],
   "source": [
    "\n",
    "\n",
    "# plot the panels\n",
    "#size = 6\n",
    "pyplot.figure(figsize=(17,2))\n",
    "pyplot.grid(True)\n",
    "pyplot.xlabel('x', fontsize=16)\n",
    "pyplot.ylabel('y', fontsize=16)\n",
    "pyplot.plot(x_ends, y_ends, color='#CD2305', linestyle='-', linewidth=2)\n",
    "#pyplot.scatter([p.xa for p in panels], [p.ya for p in panels], color='#CD2305', s=40)\n",
    "#pyplot.scatter([p.xc for p in panels], [p.yc for p in panels], color='k', marker='x', s=40, zorder=3)\n",
    "pyplot.quiver([p.xc for p in panels], [p.yc for p in panels], [p.n[0] for p in panels], [p.n[1] for p in panels],\n",
    "              scale=50, width=0.005)\n",
    "\n",
    "pyplot.plot(xf, yf, color='#CD2305', linestyle='-', linewidth=2)\n",
    "#pyplot.scatter([p.xa for p in panelsf], [p.ya for p in panelsf], color='#CD2305', s=40)#pyplot.scatter([p.xc for p in panelsf], [p.yc for p in panelsf], color='k', marker='x', s=40, zorder=3)\n",
    "pyplot.quiver([p.xc for p in panelsf], [p.yc for p in panelsf], [p.n[0] for p in panelsf], [p.n[1] for p in panelsf],\n",
    "              scale=50, width=0.005)\n",
    "\n",
    "pyplot.xlim(0,100)\n",
    "pyplot.ylim(-6,10);\n",
    "\n"
   ]
  },
  {
   "cell_type": "code",
   "execution_count": 7,
   "metadata": {
    "collapsed": false
   },
   "outputs": [],
   "source": [
    "Uinf = 1.0                         # free-stream velocity\n",
    "alpha = 2.0*math.pi/180            # angle of attack"
   ]
  },
  {
   "cell_type": "code",
   "execution_count": 8,
   "metadata": {
    "collapsed": true
   },
   "outputs": [],
   "source": [
    "def get_doublet_panel_velocity(p,x,y):\n",
    "    \"\"\"Evaluates the velocity components induced at coordinates (x,y) by a panel p.\n",
    "    \n",
    "    Arguments\n",
    "    ---------\n",
    "    p -- panel from which the velocity is induced\n",
    "    x -- x-coordinate in global frame\n",
    "    y -- y-coordinate in global frame\n",
    "    \n",
    "    Returns\n",
    "    -------\n",
    "    (u,v)-components of velocity at (x,y)\n",
    "    \"\"\"\n",
    "    \n",
    "    x_p =  math.sin(p.beta)*(x-p.xb) - math.cos(p.beta)*(y-p.yb)\n",
    "    y_p =  math.cos(p.beta)*(x-p.xb) + math.sin(p.beta)*(y-p.yb)\n",
    "    \n",
    "    u_p = -p.kappa/(2*math.pi)*(y_p/(x_p**2+y_p**2) - y_p/((x_p-p.length)**2+y_p**2))\n",
    "    v_p =  p.kappa/(2*math.pi)*(x_p/(x_p**2+y_p**2) - (x_p-p.length)/((x_p-p.length)**2+y_p**2))\n",
    "    \n",
    "    u =  math.sin(p.beta)*u_p + math.cos(p.beta)*v_p\n",
    "    v = -math.cos(p.beta)*u_p + math.sin(p.beta)*v_p\n",
    "    \n",
    "    return u, v"
   ]
  },
  {
   "cell_type": "code",
   "execution_count": 9,
   "metadata": {
    "collapsed": true
   },
   "outputs": [],
   "source": [
    "Nt = numpy.concatenate((panels,panelsf))\n",
    "No = 2*(N_panels+1)\n",
    "#No = N_panels+1"
   ]
  },
  {
   "cell_type": "code",
   "execution_count": 10,
   "metadata": {
    "collapsed": false,
    "scrolled": false
   },
   "outputs": [
    {
     "name": "stdout",
     "output_type": "stream",
     "text": [
      "[[  6.14980249e-02  -2.70843086e-02  -3.81297995e-04  -8.69333680e-04\n",
      "   -2.46402495e-04  -1.17438178e-04   1.19289845e-04   5.41741768e-04\n",
      "    1.48940971e-03   5.20176111e-03  -4.00900098e-02   3.05665192e-02\n",
      "   -2.06404607e-04  -1.61556034e-03  -4.59600327e-04  -3.72465876e-03\n",
      "   -5.89416944e-03  -4.58521163e-03   7.58077447e-03   5.12845310e-03\n",
      "    2.28157744e-03   9.68023719e-04   5.26776377e-04   1.61079911e-03]\n",
      " [ -2.90634811e-03   1.66152267e-02  -1.72333414e-03  -2.75031088e-03\n",
      "   -5.85059181e-04  -2.63437821e-04   2.30946341e-04   1.22011762e-03\n",
      "    3.68805807e-03  -2.04000954e-02   6.89083548e-03   5.24006038e-03\n",
      "   -1.36382592e-04  -8.96590228e-04  -2.08065189e-04  -1.11929231e-03\n",
      "   -7.50566432e-04  -3.04288280e-04   7.56812632e-04   1.07671634e-03\n",
      "    8.02969556e-04   4.71399055e-04   3.07287439e-04   1.27230547e-03]\n",
      " [ -7.89212957e-04  -5.91148399e-02   1.26079321e-01  -5.50272936e-02\n",
      "   -2.20335945e-03  -8.59625204e-04   3.46278098e-04   9.58844722e-04\n",
      "   -1.34001558e-02   2.45455020e-03   1.68144574e-03   2.92111497e-03\n",
      "   -9.83891965e-05  -5.74805419e-04  -1.16802257e-04  -5.30603027e-04\n",
      "   -2.77204467e-04  -8.80299916e-05   2.94901302e-04   4.79445191e-04\n",
      "    4.22873498e-04   2.84708667e-04   2.03905700e-04   1.04669803e-03]\n",
      " [ -5.12832441e-04  -8.60489230e-03  -6.73816185e-03   3.67159238e-02\n",
      "   -8.47787286e-03  -2.26725829e-03   2.96507999e-04  -7.93654270e-03\n",
      "   -5.59948403e-03   2.11052461e-03   1.05076733e-03   2.33516137e-03\n",
      "   -8.44577976e-05  -4.68481880e-04  -9.00765015e-05  -3.86152216e-04\n",
      "   -1.86194344e-04  -5.16839663e-05   2.09695763e-04   3.47020883e-04\n",
      "    3.19488382e-04   2.24519246e-04   1.66322432e-04   9.40173612e-04]\n",
      " [ -3.42785841e-04  -3.65624080e-03  -1.47331418e-03  -3.51542671e-02\n",
      "    8.51748297e-02  -2.44003650e-02  -8.38170320e-03  -1.53814510e-02\n",
      "    1.86506600e-03   1.19555555e-03   6.39765681e-04   1.78219538e-03\n",
      "   -7.04787237e-05  -3.69841790e-04  -6.69274321e-05  -2.67413850e-04\n",
      "   -1.13349670e-04  -1.55630951e-05   1.52022005e-04   2.37408756e-04\n",
      "    2.24348696e-04   1.64060823e-04   1.25734281e-04   7.88112100e-04]\n",
      " [ -2.48145754e-04  -2.46913047e-03  -8.87929887e-04  -1.03917042e-02\n",
      "   -4.92348105e-02   1.29009327e-01  -5.83538799e-02  -9.24425952e-03\n",
      "    9.87262060e-04   6.08120952e-04   3.54030609e-04   1.11775374e-03\n",
      "   -5.37462350e-05  -2.68031813e-04  -4.53877638e-05  -1.60309597e-04\n",
      "   -4.43113759e-05   3.27681779e-05   1.17699804e-04   1.34308444e-04\n",
      "    1.21740897e-04   9.20807180e-05   7.31887429e-05   5.03836760e-04]\n",
      " [  2.02714473e-04   1.40919910e-03   2.93918011e-04  -5.56866233e-04\n",
      "   -1.55464119e-02  -3.97235986e-02   1.04369912e-01  -4.37045609e-02\n",
      "   -4.64470470e-03  -1.35542018e-03  -6.39915312e-04  -1.65864536e-03\n",
      "    4.75094736e-05   2.63725252e-04   5.18016665e-05   2.45701925e-04\n",
      "    1.54420858e-04   1.09226804e-04  -8.18044149e-05  -2.44597098e-04\n",
      "   -2.44110723e-04  -1.73302842e-04  -1.28570903e-04  -7.52681996e-04]\n",
      " [  3.79743392e-04   3.09639928e-03   5.18261547e-04  -1.08130158e-02\n",
      "   -6.54515534e-03  -9.03438343e-04  -9.82567580e-03   4.35160822e-02\n",
      "   -1.59216878e-02  -2.46108163e-03  -9.96959100e-04  -2.20750436e-03\n",
      "    7.34374014e-05   4.02455128e-04   7.74152875e-05   3.48013967e-04\n",
      "    1.96157655e-04   1.05676935e-04  -1.59104494e-04  -3.40769715e-04\n",
      "   -3.19112121e-04  -2.21516854e-04  -1.62653189e-04  -9.20002866e-04]\n",
      " [  7.38366870e-04  -7.79448698e-04  -5.59336035e-03  -3.84348160e-03\n",
      "    8.07257143e-04   2.61528380e-04  -1.22233326e-03  -9.44235441e-03\n",
      "    3.18223642e-02  -1.05982163e-02  -2.11853137e-03  -3.02713697e-03\n",
      "    9.69129922e-05   5.60212313e-04   1.13848347e-04   5.38774944e-04\n",
      "    3.23562240e-04   1.71910990e-04  -2.85915773e-04  -5.43602164e-04\n",
      "   -4.63770664e-04  -3.00911106e-04  -2.11022120e-04  -1.05511147e-03]\n",
      " [  2.32631795e-03  -1.39894784e-02   8.13850786e-04   1.80279244e-03\n",
      "    4.34154989e-04   1.46396713e-04  -3.93961620e-04  -1.73543403e-03\n",
      "   -1.05915684e-02   3.18103860e-02  -1.05916778e-02  -5.14334745e-03\n",
      "    1.36971581e-04   8.70871743e-04   1.95777694e-04   1.04095326e-03\n",
      "    7.40232605e-04   4.20901407e-04  -7.19305362e-04  -1.11947753e-03\n",
      "   -8.03242051e-04  -4.62887785e-04  -3.00795564e-04  -1.26306829e-03]\n",
      " [ -1.26025725e-02  -7.19571434e-03   4.12361240e-04   9.01172790e-04\n",
      "    2.34570921e-04   8.58251310e-05  -1.90663636e-04  -7.18318666e-04\n",
      "   -2.11845102e-03  -1.05977535e-02   3.18213331e-02  -1.57373938e-02\n",
      "    2.07191662e-04   1.53695287e-03   4.08134327e-04   2.78843217e-03\n",
      "    3.10671929e-03   2.25818305e-03  -3.91570845e-03  -3.40921177e-03\n",
      "   -1.71371729e-03  -8.03282952e-04  -4.63692895e-04  -1.56186657e-03]\n",
      " [ -1.00000000e+00   0.00000000e+00   0.00000000e+00   0.00000000e+00\n",
      "    0.00000000e+00   0.00000000e+00   0.00000000e+00   0.00000000e+00\n",
      "    0.00000000e+00   0.00000000e+00   1.00000000e+00  -1.00000000e+00\n",
      "    0.00000000e+00   0.00000000e+00   0.00000000e+00   0.00000000e+00\n",
      "    0.00000000e+00   0.00000000e+00   0.00000000e+00   0.00000000e+00\n",
      "    0.00000000e+00   0.00000000e+00   0.00000000e+00   0.00000000e+00]\n",
      " [ -2.06404607e-04  -5.19133432e-04  -4.79449886e-05  -1.41810366e-04\n",
      "   -5.08445817e-05  -2.55791468e-05   2.79825599e-05   1.03959227e-04\n",
      "    1.88258170e-04   2.66729236e-04   4.04787929e-04  -2.12280920e-03\n",
      "    6.14980249e-02  -2.70843086e-02  -3.81297995e-04  -8.69333680e-04\n",
      "   -2.46402495e-04  -1.17438178e-04   1.19289845e-04   5.41741768e-04\n",
      "    1.48940971e-03   5.20176111e-03  -4.00900098e-02   3.05665192e-02]\n",
      " [ -4.07199765e-04  -8.96590228e-04  -7.33549228e-05  -2.07399307e-04\n",
      "   -7.04899682e-05  -3.36177563e-05   4.14741103e-05   1.51211985e-04\n",
      "    2.87284976e-04   4.42556970e-04   7.66123906e-04  -3.02028078e-03\n",
      "   -2.90634811e-03   1.66152267e-02  -1.72333414e-03  -2.75031088e-03\n",
      "   -5.85059181e-04  -2.63437821e-04   2.30946341e-04   1.22011762e-03\n",
      "    3.68805807e-03  -2.04000954e-02   6.89083548e-03   5.24006038e-03]\n",
      " [ -9.40920515e-04  -1.71857894e-03  -1.16802257e-04  -3.11544758e-04\n",
      "   -9.90671748e-05  -4.43058125e-05   6.25339485e-05   2.25255443e-04\n",
      "    4.57059447e-04   7.93748559e-04   1.69262206e-03  -4.80113057e-03\n",
      "   -7.89212957e-04  -5.91148399e-02   1.26079321e-01  -5.50272936e-02\n",
      "   -2.20335945e-03  -8.59625204e-04   3.46278098e-04   9.58844722e-04\n",
      "   -1.34001558e-02   2.45455020e-03   1.68144574e-03   2.92111497e-03]\n",
      " [ -2.01380335e-03  -2.77338665e-03  -1.52735540e-04  -3.86152216e-04\n",
      "   -1.14524298e-04  -4.53277453e-05   8.57265196e-05   2.92709944e-04\n",
      "    6.24430044e-04   1.21147799e-03   3.27158531e-03  -7.20825240e-03\n",
      "   -5.12832441e-04  -8.60489230e-03  -6.73816185e-03   3.67159238e-02\n",
      "   -8.47787286e-03  -2.26725829e-03   2.96507999e-04  -7.93654270e-03\n",
      "   -5.59948403e-03   2.11052461e-03   1.05076733e-03   2.33516137e-03]\n",
      " [ -8.14850510e-03  -5.18472158e-03  -1.87564963e-04  -4.36100754e-04\n",
      "   -1.13349670e-04  -2.92609340e-05   1.25849867e-04   3.86907690e-04\n",
      "    8.89183843e-04   2.10485564e-03   1.05927060e-02  -1.59068126e-02\n",
      "   -3.42785841e-04  -3.65624080e-03  -1.47331418e-03  -3.51542671e-02\n",
      "    8.51748297e-02  -2.44003650e-02  -8.38170320e-03  -1.53814510e-02\n",
      "    1.86506600e-03   1.19555555e-03   6.39765681e-04   1.78219538e-03]\n",
      " [ -1.69175133e-02  -3.38352306e-03  -9.06115486e-05  -1.80221922e-04\n",
      "   -2.34327495e-05   3.27681779e-05   1.35244524e-04   3.17423198e-04\n",
      "    7.23035739e-04   1.87169574e-03   1.75151352e-02  -2.18207984e-02\n",
      "   -2.48145754e-04  -2.46913047e-03  -8.87929887e-04  -1.03917042e-02\n",
      "   -4.92348105e-02   1.29009327e-01  -5.83538799e-02  -9.24425952e-03\n",
      "    9.87262060e-04   6.08120952e-04   3.54030609e-04   1.11775374e-03]\n",
      " [  1.46370482e-02   6.58933778e-03   2.44018558e-04   6.03458939e-04\n",
      "    1.86229877e-04   9.50088842e-05  -8.18044149e-05  -3.85350621e-04\n",
      "   -9.70088411e-04  -2.56563735e-03  -1.83522214e-02   2.41590221e-02\n",
      "    2.02714473e-04   1.40919910e-03   2.93918011e-04  -5.56866233e-04\n",
      "   -1.55464119e-02  -3.97235986e-02   1.04369912e-01  -4.37045609e-02\n",
      "   -4.64470470e-03  -1.35542018e-03  -6.39915312e-04  -1.65864536e-03]\n",
      " [  3.56708298e-03   3.29867976e-03   1.64138332e-04   4.11193505e-04\n",
      "    1.20587196e-04   4.50215209e-05  -1.01365828e-04  -3.40769715e-04\n",
      "   -7.51022937e-04  -1.56144884e-03  -4.85209597e-03   9.42857631e-03\n",
      "    3.79743392e-04   3.09639928e-03   5.18261547e-04  -1.08130158e-02\n",
      "   -6.54515534e-03  -9.03438343e-04  -9.82567580e-03   4.35160822e-02\n",
      "   -1.59216878e-02  -2.46108163e-03  -9.96959100e-04  -2.20750436e-03]\n",
      " [  1.13152844e-03   1.66066478e-03   1.05685359e-04   2.76018599e-04\n",
      "    8.32650826e-05   2.98618070e-05  -7.37991069e-05  -2.32314069e-04\n",
      "   -4.63770664e-04  -8.03437840e-04  -1.71370238e-03   4.85266710e-03\n",
      "    7.38366870e-04  -7.79448698e-04  -5.59336035e-03  -3.84348160e-03\n",
      "    8.07257143e-04   2.61528380e-04  -1.22233326e-03  -9.44235441e-03\n",
      "    3.18223642e-02  -1.05982163e-02  -2.11853137e-03  -3.02713697e-03]\n",
      " [  4.89756488e-04   9.41964966e-04   7.13176778e-05   1.94100430e-04\n",
      "    6.09707679e-05   2.26056980e-05  -5.24977777e-05  -1.61420747e-04\n",
      "   -3.00805870e-04  -4.62887785e-04  -8.03103848e-04   3.14043339e-03\n",
      "    2.32631795e-03  -1.39894784e-02   8.13850786e-04   1.80279244e-03\n",
      "    4.34154989e-04   1.46396713e-04  -3.93961620e-04  -1.73543403e-03\n",
      "   -1.05915684e-02   3.18103860e-02  -1.05916778e-02  -5.14334745e-03]\n",
      " [  2.69034112e-04   6.04370199e-04   5.11836532e-05   1.43915858e-04\n",
      "    4.67925896e-05   1.79866457e-05  -3.90205375e-05  -1.18662321e-04\n",
      "   -2.11015549e-04  -3.00891755e-04  -4.63692895e-04   2.34245952e-03\n",
      "   -1.26025725e-02  -7.19571434e-03   4.12361240e-04   9.01172790e-04\n",
      "    2.34570921e-04   8.58251310e-05  -1.90663636e-04  -7.18318666e-04\n",
      "   -2.11845102e-03  -1.05977535e-02   3.18213331e-02  -1.57373938e-02]\n",
      " [  0.00000000e+00   0.00000000e+00   0.00000000e+00   0.00000000e+00\n",
      "    0.00000000e+00   0.00000000e+00   0.00000000e+00   0.00000000e+00\n",
      "    0.00000000e+00   0.00000000e+00   0.00000000e+00   0.00000000e+00\n",
      "   -1.00000000e+00   0.00000000e+00   0.00000000e+00   0.00000000e+00\n",
      "    0.00000000e+00   0.00000000e+00   0.00000000e+00   0.00000000e+00\n",
      "    0.00000000e+00   0.00000000e+00   1.00000000e+00  -1.00000000e+00]]\n",
      "[[-0.32022223]\n",
      " [-0.19145553]\n",
      " [-0.0527684 ]\n",
      " [ 0.09224423]\n",
      " [ 0.3600827 ]\n",
      " [ 0.76543793]\n",
      " [ 0.5094955 ]\n",
      " [ 0.05629313]\n",
      " [-0.01549008]\n",
      " [-0.02246848]\n",
      " [-0.01612836]\n",
      " [ 0.        ]\n",
      " [-0.32022223]\n",
      " [-0.19145553]\n",
      " [-0.0527684 ]\n",
      " [ 0.09224423]\n",
      " [ 0.3600827 ]\n",
      " [ 0.76543793]\n",
      " [ 0.5094955 ]\n",
      " [ 0.05629313]\n",
      " [-0.01549008]\n",
      " [-0.02246848]\n",
      " [-0.01612836]\n",
      " [ 0.        ]]\n"
     ]
    }
   ],
   "source": [
    "# compute the influence coefficient matrix\n",
    "A = numpy.zeros((No, No), dtype=float)\n",
    "for i, p_i in enumerate(Nt[0:No]):\n",
    "    for j, p_j in enumerate(Nt):\n",
    "        A[i,j] = numpy.dot(get_doublet_panel_velocity(p_j, p_i.xc, p_i.yc), p_i.n)\n",
    "        if i == j:\n",
    "            A[i,j] *= 1.001\n",
    "    \n",
    "A[-1,:] = 0\n",
    "A[-1,N_panels+1] = -1\n",
    "A[-1,-2] = 1\n",
    "A[-1,-1] = -1\n",
    "A[N_panels,:] = 0\n",
    "A[N_panels,0] = -1\n",
    "A[N_panels,N_panels-1] = 1\n",
    "A[N_panels,N_panels] = -1\n",
    "\n",
    "# compute the RHS of the linear system\n",
    "b = numpy.zeros((No, 1), dtype=float)\n",
    "for i, p_i in enumerate(Nt[0:No]):\n",
    "    b[i] = -numpy.dot(numpy.array([Uinf*math.cos(alpha), Uinf*math.sin(alpha)]), p_i.n)\n",
    "        \n",
    "b[N_panels,:] = 0\n",
    "b[-1,:] = 0\n",
    "\n",
    "print (A)\n",
    "print (b)"
   ]
  },
  {
   "cell_type": "code",
   "execution_count": 11,
   "metadata": {
    "collapsed": false
   },
   "outputs": [
    {
     "name": "stdout",
     "output_type": "stream",
     "text": [
      "[[-1517.67337699]\n",
      " [-1512.91773068]\n",
      " [-1492.19440459]\n",
      " [-1475.60758321]\n",
      " [-1458.46457569]\n",
      " [-1448.00422921]\n",
      " [-1445.63781093]\n",
      " [-1454.42543278]\n",
      " [-1467.19680824]\n",
      " [-1477.67082186]\n",
      " [-1478.85202947]\n",
      " [   38.82134752]\n",
      " [-1357.03397905]\n",
      " [-1351.65440459]\n",
      " [-1333.00572869]\n",
      " [-1318.30155091]\n",
      " [-1304.83361282]\n",
      " [-1298.40042671]\n",
      " [-1301.79089022]\n",
      " [-1313.5318367 ]\n",
      " [-1328.2599788 ]\n",
      " [-1339.98093411]\n",
      " [-1342.55342393]\n",
      " [   14.48055513]]\n",
      "[[-1517.67337699]\n",
      " [-1512.91773068]\n",
      " [-1492.19440459]\n",
      " [-1475.60758321]\n",
      " [-1458.46457569]\n",
      " [-1448.00422921]\n",
      " [-1445.63781093]\n",
      " [-1454.42543278]\n",
      " [-1467.19680824]\n",
      " [-1477.67082186]\n",
      " [-1478.85202947]\n",
      " [   38.82134752]]\n",
      "[[   38.82134752]\n",
      " [-1357.03397905]\n",
      " [-1351.65440459]\n",
      " [-1333.00572869]\n",
      " [-1318.30155091]\n",
      " [-1304.83361282]\n",
      " [-1298.40042671]\n",
      " [-1301.79089022]\n",
      " [-1313.5318367 ]\n",
      " [-1328.2599788 ]\n",
      " [-1339.98093411]\n",
      " [-1342.55342393]\n",
      " [   14.48055513]]\n"
     ]
    }
   ],
   "source": [
    "# solves the linear system\n",
    "kappa = numpy.linalg.solve(A, b)\n",
    "print (kappa)\n",
    "km = kappa [:N_panels+1]\n",
    "for i, panel in enumerate(panels):\n",
    "    panel.kappa = float(km[i])\n",
    "    \n",
    "kf = kappa [Nfpanels:]\n",
    "for i, panel in enumerate(panelsf):\n",
    "    panel.kappa = float(kf[i])\n",
    "print (km)\n",
    "print (kf)"
   ]
  },
  {
   "cell_type": "code",
   "execution_count": 12,
   "metadata": {
    "collapsed": false
   },
   "outputs": [
    {
     "name": "stdout",
     "output_type": "stream",
     "text": [
      "[-1.0349638]\n",
      "[-1.14931266]\n",
      "[-1.39786115]\n",
      "[-1.4846751]\n",
      "[-1.49690639]\n",
      "[-1.34186239]\n",
      "[ 0.50682357]\n",
      "[ 0.88442351]\n",
      "[ 0.75012044]\n",
      "[ 0.97691665]\n",
      "[ 0.76050628]\n"
     ]
    }
   ],
   "source": [
    "for i, p_i in enumerate(panels[0:N_panels]):\n",
    "    vt = numpy.array([0])\n",
    "    for j, p_j in enumerate(panels):\n",
    "        if i != j:\n",
    "            vt = vt + numpy.dot(get_doublet_panel_velocity(p_j, p_i.xc, p_i.yc), p_i.t)\n",
    "    if i == 0:\n",
    "        R = math.sqrt((panels[1].xc-panels[0].xc)**2 + (panels[1].yc-panels[0].yc)**2)\n",
    "        vt = vt - 0.5*(panels[1].kappa-panels[0].kappa)/R\n",
    "    elif i == N_panels-1:\n",
    "        R = math.sqrt((panels[N_panels-1].xc-panels[N_panels-2].xc)**2 + (panels[N_panels-1].yc-panels[N_panels-2].yc)**2)\n",
    "        vt = vt - 0.5*(panels[N_panels-1].kappa-panels[N_panels-2].kappa)/R\n",
    "    else:\n",
    "        R = math.sqrt((panels[i+1].xc-panels[i-1].xc)**2 + (panels[i+1].yc-panels[i-1].yc)**2)\n",
    "        vt = vt - 0.5*(panels[i+1].kappa-panels[i-1].kappa)/R\n",
    "    vt = vt + numpy.dot(numpy.array([Uinf*math.cos(alpha), Uinf*math.sin(alpha)]), p_i.t)\n",
    "    p_i.vt = float(vt)\n",
    "    p_i.cp = 1.0 - (p_i.vt/Uinf)**2\n",
    "    \n",
    "    print (vt)"
   ]
  },
  {
   "cell_type": "code",
   "execution_count": 15,
   "metadata": {
    "collapsed": false
   },
   "outputs": [],
   "source": [
    "\n",
    "for i, p_i in enumerate(panelsf[0:Nfpanels]):\n",
    "    vt1 = numpy.array([0])\n",
    "    for j, p_j in enumerate(panels):\n",
    "        if i != j:\n",
    "            vt1 = vt1 + numpy.dot(get_doublet_panel_velocity(p_j, p_i.xc, p_i.yc), p_i.t)\n",
    "    if i == 0:\n",
    "        R = math.sqrt((panelsf[1].xc-panelsf[0].xc)**2 + (panelsf[1].yc-panelsf[0].yc)**2)\n",
    "        vt1 = vt1 - 0.5*(panelsf[1].kappa-panelsf[0].kappa)/R\n",
    "    elif i == Nfpanels-1:\n",
    "        R = math.sqrt((panelsf[Nfpanels-1].xc-panelsf[Nfpanels-2].xc)**2 + (panelsf[N_panels-1].yc-panelsf[Nfpanels-2].yc)**2)\n",
    "        vt1 = vt1 - 0.5*(panelsf[Nfpanels-1].kappa-panelsf[Nfpanels-2].kappa)/R\n",
    "    else:\n",
    "        R = math.sqrt((panelsf[i+1].xc-panelsf[i-1].xc)**2 + (panelsf[i+1].yc-panelsf[i-1].yc)**2)\n",
    "        vt1 = vt1 - 0.5*(panelsf[i+1].kappa-panelsf[i-1].kappa)/R\n",
    "    vt1 = vt1 + numpy.dot(numpy.array([Uinf*math.cos(alpha), Uinf*math.sin(alpha)]), p_i.t)\n",
    "    p_i.vt = float(vt1)\n",
    "    p_i.cp = 1.0 - (p_i.vt/Uinf)**2\n",
    "\n"
   ]
  },
  {
   "cell_type": "code",
   "execution_count": 17,
   "metadata": {
    "collapsed": false
   },
   "outputs": [
    {
     "data": {
      "image/png": "[encoded data removed]",
      "text/plain": [
       "<matplotlib.figure.Figure at 0x7f1b33121a90>"
      ]
     },
     "metadata": {},
     "output_type": "display_data"
    }
   ],
   "source": [
    "# plots the surface pressure coefficient\n",
    "pyplot.figure(figsize=(17,10))\n",
    "pyplot.grid(True)\n",
    "pyplot.xlabel('x', fontsize=16)\n",
    "pyplot.ylabel('$C_p$', fontsize=16)\n",
    "pyplot.scatter([p.xc for p in panels[0:N_panels]], [p.cp for p in panels[0:N_panels]], color='#CD2305', s=40, zorder=2)\n",
    "pyplot.scatter([p.xc for p in panelsf[0:Nfpanels]], [p.cp for p in panelsf[0:Nfpanels]], color='#CD2305', s=40, zorder=2)\n",
    "\n",
    "pyplot.title('Number of panels : %d' % No, fontsize=16)\n",
    "#pyplot.xlim(-0.6, 0.6)\n",
    "#pyplot.ylim(-1, 1.5)\n",
    "pyplot.gca().invert_yaxis();"
   ]
  },
  {
   "cell_type": "code",
   "execution_count": null,
   "metadata": {
    "collapsed": true
   },
   "outputs": [],
   "source": []
  },
  {
   "cell_type": "code",
   "execution_count": null,
   "metadata": {
    "collapsed": true
   },
   "outputs": [],
   "source": []
  },
  {
   "cell_type": "code",
   "execution_count": null,
   "metadata": {
    "collapsed": true
   },
   "outputs": [],
   "source": []
  }
 ],
 "metadata": {
  "kernelspec": {
   "display_name": "Python 3",
   "language": "python",
   "name": "python3"
  },
  "language_info": {
   "codemirror_mode": {
    "name": "ipython",
    "version": 3
   },
   "file_extension": ".py",
   "mimetype": "text/x-python",
   "name": "python",
   "nbconvert_exporter": "python",
   "pygments_lexer": "ipython3",
   "version": "3.4.4"
  }
 },
 "nbformat": 4,
 "nbformat_minor": 0
}
