{
 "cells": [
  {
   "cell_type": "code",
   "execution_count": 1,
   "metadata": {
    "collapsed": false
   },
   "outputs": [],
   "source": [
    "import numpy as np\n",
    "from math import *\n",
    "from matplotlib import cm\n",
    "from matplotlib import pyplot as plt\n",
    "import time\n",
    "%matplotlib inline"
   ]
  },
  {
   "cell_type": "code",
   "execution_count": 2,
   "metadata": {
    "collapsed": false
   },
   "outputs": [],
   "source": [
    "Nx = 8\n",
    "Ny = 8\n",
    "\n",
    "Lx = 2*pi\n",
    "Ly = 2*pi\n",
    "\n",
    "dx = Lx/(Nx)\n",
    "dy = Ly/(Ny)\n",
    "\n",
    "\n",
    "mu=1/(2*pi)\n",
    "U=1.0\n",
    "\n",
    "# Staggered Grid\n",
    "\n",
    "x_start,x_end = 0.0,Lx\n",
    "y_start,y_end = 0.0,Ly\n",
    "\n",
    "y = np.linspace(y_start,y_end,Ny+1)\n",
    "x = np.linspace(x_start,x_end,Nx+1)\n",
    "\n",
    "# Pressure\n",
    "xp=np.zeros((Nx+2,1),dtype=float)\n",
    "yp=np.zeros((Ny+2,1),dtype=float)\n",
    "p= np.zeros((Nx+2,Ny+2),dtype=float)\n",
    "\n",
    "#U velocity\n",
    "xu=np.zeros((Nx+1,1),dtype=float)\n",
    "yu=np.zeros((Ny+2,1),dtype=float)\n",
    "u = np.zeros((Nx+1,Ny+2),dtype=float)\n",
    "ut = np.zeros((Nx+1,Ny+2),dtype=float)\n",
    "\n",
    "#v velocity\n",
    "xv=np.zeros((Nx+2,1),dtype=float)\n",
    "yv=np.zeros((Ny+1,1),dtype=float)\n",
    "v = np.zeros((Nx+2,Ny+1),dtype=float)\n",
    "vt = np.zeros((Nx+2,Ny+1),dtype=float)"
   ]
  },
  {
   "cell_type": "code",
   "execution_count": 3,
   "metadata": {
    "collapsed": false
   },
   "outputs": [],
   "source": [
    "# Pressure points\n",
    "for i in range(1,Nx):\n",
    "    for j in range(1,Ny):\n",
    "        xp[i]=(x[i-1]+x[i])/2\n",
    "        yp[j]=(y[j-1]+y[j])/2\n",
    "\n",
    "xp[0]=xp[1]-dx\n",
    "yp[0]=yp[1]-dy\n",
    "\n",
    "xp[-1]=xp[-2]+dx\n",
    "yp[-1]=yp[-2]+dy\n",
    "\n",
    "# u-velocity points\n",
    "for i in range(Nx):\n",
    "    for j in range(1,Ny):\n",
    "        xu[i]=x[i]\n",
    "        yu[j]=(y[j-1]+y[j])/2\n",
    "\n",
    "xu[0]=xu[1]-dx\n",
    "yu[0]=yu[1]-dy\n",
    "\n",
    "xu[-1]=xu[-2]+dx\n",
    "yu[-1]=yu[-2]+dy\n",
    "\n",
    "# v-velocity points\n",
    "for i in range(1,Nx):\n",
    "    for j in range(Ny):\n",
    "        yv[j]=y[j]\n",
    "        xv[i]=(x[i-1]+x[i])/2;\n",
    "\n",
    "xv[0]=xv[1]-dx;\n",
    "yv[0]=yv[1]-dy;\n",
    "\n",
    "xv[-1]=xv[-2]+dx;\n",
    "yv[-1]=yv[-2]+dy;\n",
    "\n",
    "[X,Y]=np.meshgrid(x,y)\n",
    "#plt.plot(xu,yu)"
   ]
  },
  {
   "cell_type": "code",
   "execution_count": 4,
   "metadata": {
    "collapsed": false
   },
   "outputs": [],
   "source": [
    "for i in range(0,Nx+1):\n",
    "    for j in range(0,Ny+2):\n",
    "        u[i,j] = -np.cos(xu[i])*np.sin(yu[j])\n",
    "\n",
    "for i in range(0,Nx+2):\n",
    "    for j in range(0,Ny+1):\n",
    "        v[i,j] =  np.sin(xv[i])*np.cos(yv[j])\n",
    "        \n",
    "for i in range(0,Nx+2):\n",
    "    for j in range(0,Ny+2):\n",
    "        p[i,j]=-0.25*(np.cos(2*xp[i])+np.cos(2*yp[j]))\n",
    "        \n",
    "\n",
    "\n",
    "#v=va"
   ]
  },
  {
   "cell_type": "code",
   "execution_count": 5,
   "metadata": {
    "collapsed": true
   },
   "outputs": [],
   "source": [
    "def F1c(ue,uw,us,un,vs,vn,dx,dy):\n",
    "    F1c=-((ue**2)-(uw**2))/dx - ((un*vn)-(us*vs))/dy\n",
    "    return F1c"
   ]
  },
  {
   "cell_type": "code",
   "execution_count": 6,
   "metadata": {
    "collapsed": true
   },
   "outputs": [],
   "source": [
    "def Fv(uP,uE,uW,uN,uS,dx,dy,mu):\n",
    "    Fv=(mu/dx)*(((uE-uP)/dx)-((uP-uW)/dx)) + (mu/dy)*(((uN-uP)/dy)-((uP-uS)/dy))\n",
    "    return Fv "
   ]
  },
  {
   "cell_type": "code",
   "execution_count": 7,
   "metadata": {
    "collapsed": true
   },
   "outputs": [],
   "source": [
    "def F2c(vn,vs,ve,vw,ue,uw,dx,dy):\n",
    "    F2c= -((ue*ve)-(uw*vw))/dx - ((vn**2)-(vs**2))/dy\n",
    "    return F2c"
   ]
  },
  {
   "cell_type": "code",
   "execution_count": 8,
   "metadata": {
    "collapsed": false
   },
   "outputs": [],
   "source": [
    "#Simulation parameters\n",
    "[X,Y]=np.meshgrid(x,y)\n",
    "\n",
    "t=0\n",
    "tmax=50\n",
    "\n",
    "#dt=0.05*(min(dx,dy))**2/Re\n",
    "dt = dx*0.05\n",
    "nt = int((tmax-t)/dt)\n",
    "\n",
    "maxit = 1500\n",
    "\n",
    "tstep = 0\n",
    "\n",
    "#simlations\n",
    "\n",
    "while(tstep<nt):\n",
    "    \n",
    "    #predictor\n",
    "               \n",
    "    ue1=(u[1:-1,1:-1]+u[2:,1:-1])/2\n",
    "    uw1=(u[1:-1,1:-1]+u[:-2,1:-1])/2\n",
    "    un1=(u[1:-1,1:-1]+u[1:-1,2:])/2\n",
    "    us1=(u[1:-1,1:-1]+u[1:-1,:-2])/2\n",
    "    vn1=(v[1:-2,1:]+v[2:-1,1:])/2\n",
    "    vs1=(v[1:-2,:-1]+v[2:-1,:-1])/2\n",
    "    \n",
    "    \n",
    "    \n",
    "    uP = (u[1:-1,1:-1])\n",
    "    uE = (u[2:,1:-1])\n",
    "    uW = (u[:-2,1:-1])\n",
    "    uN = (u[1:-1,2:])\n",
    "    uS = (u[1:-1,:-2])\n",
    "    \n",
    "    \n",
    "    if tstep==0:\n",
    "        G1=(F1c(ue1,uw1,us1,un1,vs1,vn1,dx,dy))+Fv(uP,uE,uW,uN,uS,dx,dy,mu)\n",
    "        ut[1:-1,1:-1]=u[1:-1,1:-1]+(dt/1)*G1\n",
    "        G1_old=G1.copy()\n",
    "        \n",
    "               \n",
    "    else:\n",
    "        \n",
    "        G1=(F1c(ue1,uw1,us1,un1,vs1,vn1,dx,dy))+Fv(uP,uE,uW,uN,uS,dx,dy,mu)\n",
    "        ut[1:-1,1:-1]=u[1:-1,1:-1]+(dt/2)*(3*G1-G1_old)\n",
    "        G1_old=G1.copy()\n",
    "\n",
    "    ve12=(v[1:-1,1:-1]+v[2:,1:-1])/2\n",
    "    vw12=(v[1:-1,1:-1]+v[:-2,1:-1])/2\n",
    "    vn12=(v[1:-1,1:-1]+v[1:-1,2:])/2\n",
    "    vs12=(v[1:-1,1:-1]+v[1:-1,:-2])/2\n",
    "    ue12=(u[1:,1:-2]+u[1:,2:-1])/2\n",
    "    uw12=(u[:-1,1:-2]+u[:-1,2:-1])/2\n",
    "    \n",
    "    vP = (v[1:-1,1:-1])\n",
    "    vE = (v[2:,1:-1])\n",
    "    vW = (v[:-2,1:-1])\n",
    "    vN = (v[1:-1,2:])\n",
    "    vS = (v[1:-1,:-2])\n",
    "    \n",
    "    \n",
    "    if tstep==0:\n",
    "        G2=(F2c(vn12,vs12,ve12,vw12,ue12,uw12,dx,dy)) + Fv(vP,vE,vW,vN,vS,dx,dy,mu)\n",
    "        vt[1:-1,1:-1]=v[1:-1,1:-1]+(dt/1)*G2\n",
    "        G2_old=G2.copy()\n",
    "            \n",
    "    else:\n",
    "        \n",
    "        G2=(F2c(vn12,vs12,ve12,vw12,ue12,uw12,dx,dy))+ Fv(vP,vE,vW,vN,vS,dx,dy,mu)\n",
    "        vt[1:-1,1:-1]=v[1:-1,1:-1]+(dt/2)*(3*G2-G2_old)\n",
    "        G2_old=G2.copy()\n",
    "\n",
    "        \n",
    "    #Boundary conditions\n",
    "    ut[:,0]=ut[:,-2] #Bottom boundary condition\n",
    "    ut[:,-1]=ut[:,1] #Top Boundary condition\n",
    "    \n",
    "    vt[0,:]=vt[-2,:] #Left Boundary condition\n",
    "    vt[-1:]=vt[1,:] #Right Boundary condition\n",
    "\n",
    "    ut[0,:] = ut[-2,:]\n",
    "    ut[-1,:] = ut[1,:]\n",
    "    vt[:,0] = vt[:,-2]\n",
    "    vt[:,-1] = vt[:,1]\n",
    "    \n",
    "    #Poissions equation\n",
    "    \n",
    "   \n",
    "    \n",
    "    \n",
    "    #p[:,0]=p[:,1]\n",
    "    #p[:,-1]=p[:,-2]\n",
    "    #p[0,:]=p[1,:]\n",
    "    #p[-1,:]=p[-2,:]\n",
    "    \n",
    "    p_counter = 0\n",
    "    while (p_counter<maxit):\n",
    "    \n",
    "        p_old = p.copy()\n",
    "        \n",
    "        \n",
    "        p[1:Nx+1,1:Ny+1]=0.25*((p_old[1:Nx+1,2:Ny+2]+p_old[1:Nx+1,:Ny]+\\\n",
    "                        p_old[2:Nx+2,1:Ny+1]+p_old[:Nx,1:Ny+1])-(dy/dt)*(vt[1:Nx+1,1:Ny+1]-\\\n",
    "                        vt[1:Nx+1,:Ny])-(dx/dt)*(ut[1:Nx+1,1:Ny+1]-ut[:Nx,1:Ny+1]))\n",
    "        \n",
    "        #Boundary conditions\n",
    "        p[:,0]=p[:,1]\n",
    "        p[:,-1]=p[:,-2]\n",
    "        p[0,:]=p[1,:]\n",
    "        p[-1,:]=p[-2,:]\n",
    "    \n",
    "        p_counter = p_counter + 1\n",
    "    \n",
    "        rms_error = sqrt(sum(sum((p-p_old)**2))/np.size(p))\n",
    "        if (rms_error<10**-6 and rms_error !=0):\n",
    "            break\n",
    "        # Corrector step\n",
    "    \n",
    "    u[1:-1,1:-1]=ut[1:-1,1:-1]-(dt/(dx))*(p[2:-1,1:-1]-p[1:-2,1:-1])\n",
    "    v[1:-1,1:-1]=vt[1:-1,1:-1]-(dt/(dy))*(p[1:-1,2:-1]-p[1:-1,1:-2])\n",
    "\n",
    "    #Boundary conditions for correct velocities\n",
    "    \n",
    "     #Boundary conditions\n",
    "    u[:,0]=u[:,-2] #Bottom boundary condition\n",
    "    u[:,-1]=u[:,1] #Top Boundary condition\n",
    "    \n",
    "    v[0,:]=v[-2,:] #Left Boundary condition\n",
    "    v[-1:]=v[1,:] #Right Boundary condition\n",
    "\n",
    "    u[0,:] = u[-2,:]\n",
    "    u[-1,:] = u[1,:]\n",
    "    v[:,0] = v[:,-2]\n",
    "    v[:,-1] = v[:,1]\n",
    "    \n",
    "    #End time loop\n",
    "    tstep+=1"
   ]
  },
  {
   "cell_type": "code",
   "execution_count": 9,
   "metadata": {
    "collapsed": false
   },
   "outputs": [],
   "source": [
    "uu=(u[:,:-1]+u[:,1:])*0.5\n",
    "vv=(v[:-1,:]+v[1:,:])*0.5\n",
    "\n",
    "uu=uu.T\n",
    "vv=vv.T"
   ]
  },
  {
   "cell_type": "code",
   "execution_count": 13,
   "metadata": {
    "collapsed": false
   },
   "outputs": [
    {
     "data": {
      "image/png": "[encoded data removed]",
      "text/plain": [
       "<matplotlib.figure.Figure at 0x7f5eae59a860>"
      ]
     },
     "metadata": {},
     "output_type": "display_data"
    }
   ],
   "source": [
    "plt.figure()#(figsize=(size, (1.-0)/(1.-0)*size))\n",
    "plt.contourf(X,Y,np.sqrt(uu**2+vv**2))\n",
    "plt.colorbar()\n",
    "plt.axis('equal')\n",
    "plt.xlabel('x')\n",
    "plt.ylabel('y')\n",
    "plt.title('Velocity Contours')\n",
    "plt.show()"
   ]
  },
  {
   "cell_type": "code",
   "execution_count": null,
   "metadata": {
    "collapsed": true
   },
   "outputs": [],
   "source": []
  }
 ],
 "metadata": {
  "kernelspec": {
   "display_name": "Python 3",
   "language": "python",
   "name": "python3"
  },
  "language_info": {
   "codemirror_mode": {
    "name": "ipython",
    "version": 3
   },
   "file_extension": ".py",
   "mimetype": "text/x-python",
   "name": "python",
   "nbconvert_exporter": "python",
   "pygments_lexer": "ipython3",
   "version": "3.4.4"
  }
 },
 "nbformat": 4,
 "nbformat_minor": 0
}
