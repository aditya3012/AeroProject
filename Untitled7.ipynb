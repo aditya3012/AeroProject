{
 "cells": [
  {
   "cell_type": "code",
   "execution_count": 219,
   "metadata": {
    "collapsed": true
   },
   "outputs": [],
   "source": [
    "import math\n",
    "import numpy\n",
    "from matplotlib import pyplot"
   ]
  },
  {
   "cell_type": "code",
   "execution_count": 220,
   "metadata": {
    "collapsed": false
   },
   "outputs": [
    {
     "name": "stdout",
     "output_type": "stream",
     "text": [
      "x =  [ 0.          0.08163265  0.16326531  0.24489796  0.32653061  0.40816327\n",
      "  0.48979592  0.57142857  0.65306122  0.73469388  0.81632653  0.89795918\n",
      "  0.97959184  1.06122449  1.14285714  1.2244898   1.30612245  1.3877551\n",
      "  1.46938776  1.55102041  1.63265306  1.71428571  1.79591837  1.87755102\n",
      "  1.95918367  2.04081633  2.12244898  2.20408163  2.28571429  2.36734694\n",
      "  2.44897959  2.53061224  2.6122449   2.69387755  2.7755102   2.85714286\n",
      "  2.93877551  3.02040816  3.10204082  3.18367347  3.26530612  3.34693878\n",
      "  3.42857143  3.51020408  3.59183673  3.67346939  3.75510204  3.83673469\n",
      "  3.91836735  4.        ]\n",
      "y =  [ 0.          0.08163265  0.16326531  0.24489796  0.32653061  0.40816327\n",
      "  0.48979592  0.57142857  0.65306122  0.73469388  0.81632653  0.89795918\n",
      "  0.97959184  1.06122449  1.14285714  1.2244898   1.30612245  1.3877551\n",
      "  1.46938776  1.55102041  1.63265306  1.71428571  1.79591837  1.87755102\n",
      "  1.95918367  2.04081633  2.12244898  2.20408163  2.28571429  2.36734694\n",
      "  2.44897959  2.53061224  2.6122449   2.69387755  2.7755102   2.85714286\n",
      "  2.93877551  3.02040816  3.10204082  3.18367347  3.26530612  3.34693878\n",
      "  3.42857143  3.51020408  3.59183673  3.67346939  3.75510204  3.83673469\n",
      "  3.91836735  4.        ]\n"
     ]
    }
   ],
   "source": [
    "N = 50                            \n",
    "x_start, x_end = 0.0, 4.0            \n",
    "y_start, y_end = 0.0, 4.0            \n",
    "x = numpy.linspace (x_start, x_end, N)    \n",
    "y = numpy.linspace (y_start, y_end, N)    \n",
    "X, Y = numpy.meshgrid(x, y)\n",
    "\n",
    "print('x = ', x)\n",
    "print('y = ', y)\n",
    "\n",
    "X, Y = numpy.meshgrid(x, y)"
   ]
  },
  {
   "cell_type": "code",
   "execution_count": null,
   "metadata": {
    "collapsed": false
   },
   "outputs": [],
   "source": []
  },
  {
   "cell_type": "code",
   "execution_count": 221,
   "metadata": {
    "collapsed": true
   },
   "outputs": [],
   "source": [
    "Ps = 101*10**3\n",
    "Ts = 300\n",
    "R = 1.18\n",
    "ga = 1.4\n",
    "g = 9.8\n",
    "z = numpy.linspace(0.,12000.,12)"
   ]
  },
  {
   "cell_type": "code",
   "execution_count": 222,
   "metadata": {
    "collapsed": false
   },
   "outputs": [],
   "source": [
    "def Tz (Z):\n",
    "\n",
    "  Tz = Ts * ( 1- ga-1/ga*(R*g/Ps)*Z)\n",
    "\n",
    "  return Tz\n",
    "\n",
    "\n"
   ]
  },
  {
   "cell_type": "code",
   "execution_count": 223,
   "metadata": {
    "collapsed": false,
    "scrolled": true
   },
   "outputs": [
    {
     "data": {
      "image/png": "[encoded data removed]",
      "text/plain": [
       "<matplotlib.figure.Figure at 0x7f29e7b54048>"
      ]
     },
     "metadata": {},
     "output_type": "display_data"
    }
   ],
   "source": [
    "T=Tz(z)-273\n",
    "z_feet=z*3.28\n",
    "\n",
    "%matplotlib inline\n",
    "\n",
    "#size = 10\n",
    "#pyplot.figure(figsize=(size, (y_end-y_start)/(x_end-x_start)*size))\n",
    "pyplot.xlabel('altitude ft', fontsize=16)\n",
    "pyplot.ylabel('Temperature K', fontsize=16)\n",
    "#pyplot.xlim(x_start, x_end)\n",
    "#pyplot.ylim(y_start, y_end)\n",
    "\n",
    "pyplot.plot (z_feet, T);"
   ]
  },
  {
   "cell_type": "code",
   "execution_count": 224,
   "metadata": {
    "collapsed": false
   },
   "outputs": [],
   "source": [
    " def Pz (Z):\n",
    "    \n",
    "     Pz = Ps * (( 1- ga-1/ga*(R*g/Ps)*Z)**(1.4))\n",
    "        \n",
    "        \n",
    "     return Pz"
   ]
  },
  {
   "cell_type": "code",
   "execution_count": 225,
   "metadata": {
    "collapsed": false
   },
   "outputs": [
    {
     "name": "stderr",
     "output_type": "stream",
     "text": [
      "/home/gil/anaconda3/lib/python3.4/site-packages/ipykernel/__main__.py:3: RuntimeWarning: invalid value encountered in power\n",
      "  app.launch_new_instance()\n"
     ]
    },
    {
     "data": {
      "image/png": "[encoded data removed]",
      "text/plain": [
       "<matplotlib.figure.Figure at 0x7f29e7b23198>"
      ]
     },
     "metadata": {},
     "output_type": "display_data"
    }
   ],
   "source": [
    "P=Pz(z)\n",
    "z_meters=z\n",
    "\n",
    "%matplotlib inline\n",
    "\n",
    "#size = 10\n",
    "#pyplot.figure(figsize=(size, (y_end-y_start)/(x_end-x_start)*size))\n",
    "pyplot.xlabel('altitude m', fontsize=16)\n",
    "pyplot.ylabel('Pressure mbar', fontsize=16)\n",
    "#pyplot.xlim(x_start, x_end)\n",
    "#pyplot.ylim(y_start, y_end)\n",
    "\n",
    "pyplot.plot (z, P);"
   ]
  },
  {
   "cell_type": "code",
   "execution_count": 226,
   "metadata": {
    "collapsed": true
   },
   "outputs": [],
   "source": [
    "def Rhoz (Z):\n",
    "    \n",
    "     Rhoz = 1.18 * ( 1- ga-1/ga*(1.18*g/Ps)*Z)**(1/ga-1) \n",
    "        \n",
    "        \n",
    "     return Rhoz"
   ]
  },
  {
   "cell_type": "code",
   "execution_count": 227,
   "metadata": {
    "collapsed": false
   },
   "outputs": [
    {
     "name": "stderr",
     "output_type": "stream",
     "text": [
      "/home/gil/anaconda3/lib/python3.4/site-packages/ipykernel/__main__.py:3: RuntimeWarning: invalid value encountered in power\n",
      "  app.launch_new_instance()\n"
     ]
    },
    {
     "data": {
      "image/png": "[encoded data removed]",
      "text/plain": [
       "<matplotlib.figure.Figure at 0x7f29e7ace9e8>"
      ]
     },
     "metadata": {},
     "output_type": "display_data"
    }
   ],
   "source": [
    "Rho=Rhoz(z)\n",
    "z_feet=z\n",
    "\n",
    "%matplotlib inline\n",
    "\n",
    "#size = 10\n",
    "#pyplot.figure(figsize=(size, (y_end-y_start)/(x_end-x_start)*size))\n",
    "pyplot.xlabel('altitude ft ', fontsize=16)\n",
    "pyplot.ylabel('Density', fontsize=16)\n",
    "#pyplot.xlim(x_start, x_end)\n",
    "#pyplot.ylim(y_start, y_end)\n",
    "\n",
    "pyplot.plot (z, Rho);"
   ]
  },
  {
   "cell_type": "code",
   "execution_count": 228,
   "metadata": {
    "collapsed": true
   },
   "outputs": [],
   "source": [
    "Ps = 101*10**3\n",
    "Tc = 2700\n",
    "Ta = 299.9\n",
    "R = 8.314\n",
    "ga = 1.4\n",
    "g = 9.8\n",
    "M = numpy.linspace(0.,1,12)"
   ]
  },
  {
   "cell_type": "code",
   "execution_count": 229,
   "metadata": {
    "collapsed": false
   },
   "outputs": [],
   "source": [
    "def Tho (M):\n",
    "     \n",
    "    Tho = M * math.sqrt(ga*R*Ta)*{(math.sqrt(Tc/Ta))*(1+ (ga-1/2)*M**2)**(-1/2)-1}\n",
    "    \n",
    "    return Tho"
   ]
  },
  {
   "cell_type": "code",
   "execution_count": 230,
   "metadata": {
    "collapsed": false
   },
   "outputs": [
    {
     "ename": "TypeError",
     "evalue": "unhashable type: 'numpy.ndarray'",
     "output_type": "error",
     "traceback": [
      "\u001b[1;31m---------------------------------------------------------------------------\u001b[0m",
      "\u001b[1;31mTypeError\u001b[0m                                 Traceback (most recent call last)",
      "\u001b[1;32m<ipython-input-230-a08ee4c0ff52>\u001b[0m in \u001b[0;36m<module>\u001b[1;34m()\u001b[0m\n\u001b[1;32m----> 1\u001b[1;33m \u001b[0mTho\u001b[0m\u001b[1;33m=\u001b[0m\u001b[0mTho\u001b[0m\u001b[1;33m(\u001b[0m\u001b[0mM\u001b[0m\u001b[1;33m)\u001b[0m\u001b[1;33m\u001b[0m\u001b[0m\n\u001b[0m\u001b[0;32m      2\u001b[0m \u001b[0mM\u001b[0m\u001b[1;33m=\u001b[0m\u001b[0mM\u001b[0m\u001b[1;33m\u001b[0m\u001b[0m\n\u001b[0;32m      3\u001b[0m \u001b[1;33m\u001b[0m\u001b[0m\n\u001b[0;32m      4\u001b[0m \u001b[0mget_ipython\u001b[0m\u001b[1;33m(\u001b[0m\u001b[1;33m)\u001b[0m\u001b[1;33m.\u001b[0m\u001b[0mmagic\u001b[0m\u001b[1;33m(\u001b[0m\u001b[1;34m'matplotlib inline'\u001b[0m\u001b[1;33m)\u001b[0m\u001b[1;33m\u001b[0m\u001b[0m\n\u001b[0;32m      5\u001b[0m \u001b[1;33m\u001b[0m\u001b[0m\n",
      "\u001b[1;32m<ipython-input-229-25ce6fab6245>\u001b[0m in \u001b[0;36mTho\u001b[1;34m(M)\u001b[0m\n\u001b[0;32m      1\u001b[0m \u001b[1;32mdef\u001b[0m \u001b[0mTho\u001b[0m \u001b[1;33m(\u001b[0m\u001b[0mM\u001b[0m\u001b[1;33m)\u001b[0m\u001b[1;33m:\u001b[0m\u001b[1;33m\u001b[0m\u001b[0m\n\u001b[0;32m      2\u001b[0m \u001b[1;33m\u001b[0m\u001b[0m\n\u001b[1;32m----> 3\u001b[1;33m     \u001b[0mTho\u001b[0m \u001b[1;33m=\u001b[0m \u001b[0mM\u001b[0m \u001b[1;33m*\u001b[0m \u001b[0mmath\u001b[0m\u001b[1;33m.\u001b[0m\u001b[0msqrt\u001b[0m\u001b[1;33m(\u001b[0m\u001b[0mga\u001b[0m\u001b[1;33m*\u001b[0m\u001b[0mR\u001b[0m\u001b[1;33m*\u001b[0m\u001b[0mTa\u001b[0m\u001b[1;33m)\u001b[0m\u001b[1;33m*\u001b[0m\u001b[1;33m{\u001b[0m\u001b[1;33m(\u001b[0m\u001b[0mmath\u001b[0m\u001b[1;33m.\u001b[0m\u001b[0msqrt\u001b[0m\u001b[1;33m(\u001b[0m\u001b[0mTc\u001b[0m\u001b[1;33m/\u001b[0m\u001b[0mTa\u001b[0m\u001b[1;33m)\u001b[0m\u001b[1;33m)\u001b[0m\u001b[1;33m*\u001b[0m\u001b[1;33m(\u001b[0m\u001b[1;36m1\u001b[0m\u001b[1;33m+\u001b[0m \u001b[1;33m(\u001b[0m\u001b[0mga\u001b[0m\u001b[1;33m-\u001b[0m\u001b[1;36m1\u001b[0m\u001b[1;33m/\u001b[0m\u001b[1;36m2\u001b[0m\u001b[1;33m)\u001b[0m\u001b[1;33m*\u001b[0m\u001b[0mM\u001b[0m\u001b[1;33m**\u001b[0m\u001b[1;36m2\u001b[0m\u001b[1;33m)\u001b[0m\u001b[1;33m**\u001b[0m\u001b[1;33m(\u001b[0m\u001b[1;33m-\u001b[0m\u001b[1;36m1\u001b[0m\u001b[1;33m/\u001b[0m\u001b[1;36m2\u001b[0m\u001b[1;33m)\u001b[0m\u001b[1;33m-\u001b[0m\u001b[1;36m1\u001b[0m\u001b[1;33m}\u001b[0m\u001b[1;33m\u001b[0m\u001b[0m\n\u001b[0m\u001b[0;32m      4\u001b[0m \u001b[1;33m\u001b[0m\u001b[0m\n\u001b[0;32m      5\u001b[0m     \u001b[1;32mreturn\u001b[0m \u001b[0mTho\u001b[0m\u001b[1;33m\u001b[0m\u001b[0m\n",
      "\u001b[1;31mTypeError\u001b[0m: unhashable type: 'numpy.ndarray'"
     ]
    }
   ],
   "source": [
    "Tho=Tho(M)\n",
    "M=M\n",
    "\n",
    "%matplotlib inline\n",
    "\n",
    "#size = 10\n",
    "#pyplot.figure(figsize=(size, (y_end-y_start)/(x_end-x_start)*size))\n",
    "\n",
    "#pyplot.xlim(x_start, x_end)\n",
    "#pyplot.ylim(y_start, y_end)\n",
    "\n",
    "pyplot.plot (M, Tho);"
   ]
  },
  {
   "cell_type": "code",
   "execution_count": null,
   "metadata": {
    "collapsed": false
   },
   "outputs": [],
   "source": [
    "Et = 0.45\n",
    "Qr = 45000000\n",
    "s = numpy.linspace(0.,20000,10.)\n"
   ]
  },
  {
   "cell_type": "code",
   "execution_count": null,
   "metadata": {
    "collapsed": true
   },
   "outputs": [],
   "source": [
    "def "
   ]
  }
 ],
 "metadata": {
  "kernelspec": {
   "display_name": "Python 3",
   "language": "python",
   "name": "python3"
  },
  "language_info": {
   "codemirror_mode": {
    "name": "ipython",
    "version": 3
   },
   "file_extension": ".py",
   "mimetype": "text/x-python",
   "name": "python",
   "nbconvert_exporter": "python",
   "pygments_lexer": "ipython3",
   "version": "3.4.4"
  }
 },
 "nbformat": 4,
 "nbformat_minor": 0
}
