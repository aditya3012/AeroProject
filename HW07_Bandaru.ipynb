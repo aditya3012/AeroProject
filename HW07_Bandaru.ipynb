{
 "cells": [
  {
   "cell_type": "code",
   "execution_count": 269,
   "metadata": {
    "collapsed": true
   },
   "outputs": [],
   "source": [
    "import numpy as npy\n",
    "import math\n",
    "from matplotlib import pyplot as plt"
   ]
  },
  {
   "cell_type": "code",
   "execution_count": 276,
   "metadata": {
    "collapsed": false
   },
   "outputs": [
    {
     "name": "stdout",
     "output_type": "stream",
     "text": [
      "0.0240750723738\n",
      "-0.0240750723738\n",
      "Thickness: 0.0481501447476\n"
     ]
    },
    {
     "data": {
      "image/png": "[encoded data removed]",
      "text/plain": [
       "<matplotlib.figure.Figure at 0x7fd90ef03da0>"
      ]
     },
     "metadata": {},
     "output_type": "display_data"
    }
   ],
   "source": [
    "N = 50                                          # number of points\n",
    "\n",
    "a = 0.25\n",
    "c = 1\n",
    "T = 0.05\n",
    "H = 0.00\n",
    "\n",
    "r_s = ((1/4)+(T/(3*math.sqrt(3))))*c  \n",
    "r_start, r_stop = r_s,2*r_s                         # x bounds\n",
    "theta_start, theta_stop = 0, 2*math.pi               # y bounds\n",
    "\n",
    "#Airfoil\n",
    "            \n",
    "r = npy.linspace(r_s, 2*r_s, N)                  # x array\n",
    "theta = npy.linspace(theta_start, theta_stop, 2*N)           # y array\n",
    "\n",
    "R, Theta = npy.meshgrid(r,theta)                      # creates grid\n",
    "\n",
    "\n",
    "Zeta = (R)*npy.exp(1j*(Theta))\n",
    "Zeta_c = -4*a/(3*math.sqrt(3))*T+1j*2*H\n",
    "\n",
    "\n",
    "#Joukoswki\n",
    "Z_s = (Zeta+Zeta_c) + a**2/(Zeta+Zeta_c)\n",
    "\n",
    "# plots the grid of points\n",
    "size = 10\n",
    "plt.figure(figsize=(size, (r_stop-r_start)/(r_stop-r_start)*size))\n",
    "plt.xlabel('x', fontsize=16)\n",
    "plt.ylabel('y', fontsize=16)\n",
    "plt.scatter(Z_s.real,Z_s.imag, s=10, color='white', marker='o', linewidth=0)\n",
    "plt.scatter(Z_s.real[:,0],Z_s.imag[:,0])\n",
    "\n",
    "print (max(Z_s.imag[:,0]))\n",
    "print (min(Z_s.imag[:,0]))\n",
    "Th =  (max(Z_s.imag[:,0]))-(min(Z_s.imag[:,0]))\n",
    "print (\"Thickness:\", (Th))\n"
   ]
  },
  {
   "cell_type": "code",
   "execution_count": 271,
   "metadata": {
    "collapsed": false
   },
   "outputs": [
    {
     "ename": "ValueError",
     "evalue": "operands could not be broadcast together with shapes (100,50) (100,) ",
     "output_type": "error",
     "traceback": [
      "\u001b[1;31m---------------------------------------------------------------------------\u001b[0m",
      "\u001b[1;31mValueError\u001b[0m                                Traceback (most recent call last)",
      "\u001b[1;32m<ipython-input-271-6bfb3f0aba6d>\u001b[0m in \u001b[0;36m<module>\u001b[1;34m()\u001b[0m\n\u001b[1;32m----> 1\u001b[1;33m \u001b[0mZ\u001b[0m \u001b[1;33m=\u001b[0m \u001b[0mR\u001b[0m\u001b[1;33m*\u001b[0m\u001b[0mnpy\u001b[0m\u001b[1;33m.\u001b[0m\u001b[0mexp\u001b[0m\u001b[1;33m(\u001b[0m\u001b[1;36m1j\u001b[0m\u001b[1;33m*\u001b[0m\u001b[0mtheta\u001b[0m\u001b[1;33m)\u001b[0m\u001b[1;33m\u001b[0m\u001b[0m\n\u001b[0m\u001b[0;32m      2\u001b[0m \u001b[1;33m\u001b[0m\u001b[0m\n\u001b[0;32m      3\u001b[0m \u001b[0mplt\u001b[0m\u001b[1;33m.\u001b[0m\u001b[0mfigure\u001b[0m\u001b[1;33m(\u001b[0m\u001b[1;33m)\u001b[0m\u001b[1;33m\u001b[0m\u001b[0m\n\u001b[0;32m      4\u001b[0m \u001b[0mplt\u001b[0m\u001b[1;33m.\u001b[0m\u001b[0mscatter\u001b[0m\u001b[1;33m(\u001b[0m\u001b[0mZ\u001b[0m\u001b[1;33m.\u001b[0m\u001b[0mreal\u001b[0m\u001b[1;33m,\u001b[0m\u001b[0mZ\u001b[0m\u001b[1;33m.\u001b[0m\u001b[0mimag\u001b[0m\u001b[1;33m)\u001b[0m\u001b[1;33m\u001b[0m\u001b[0m\n\u001b[0;32m      5\u001b[0m \u001b[1;33m\u001b[0m\u001b[0m\n",
      "\u001b[1;31mValueError\u001b[0m: operands could not be broadcast together with shapes (100,50) (100,) "
     ]
    }
   ],
   "source": [
    "Z = R*npy.exp(1j*theta)\n",
    "\n",
    "plt.figure()\n",
    "plt.scatter(Z.real,Z.imag)\n",
    "\n",
    "print(T, H, a)\n",
    "Z_c = -4 * a / (3 *math.sqrt(3))*T + (1j*2*a*H)\n",
    "R_c = c/4 + (T*3*math.sqrt(3))\n",
    "\n",
    "theta=npy.radians(npy.linspace(-180,180,25))\n",
    "\n",
    "Z_s = (Z+Z_c) + a**2/(Z+Z_c)"
   ]
  },
  {
   "cell_type": "code",
   "execution_count": null,
   "metadata": {
    "collapsed": false,
    "scrolled": true
   },
   "outputs": [],
   "source": [
    "plt.figure()\n",
    "plt.scatter(Z_s.real, Z_s.imag)\n",
    "plt.axis('equal')\n",
    "\n",
    "#print (Z_s.real[:,0])\n",
    "#print (Z_s.imag[:,0])\n",
    "plt.scatter(Z_s.real[:,0],Z_s.imag[:,0])\n",
    "#print (len(Z_s.real[:,0]))\n",
    "\n",
    "Y_diff = []\n",
    "\n",
    "for i in range(N):\n",
    "    for j in range(N):\n",
    "        if(Z_s.real[i,0]==Z_s.real[j,0] and Z_s.imag[i,0]!=Z_s.imag[j,0]):\n",
    "                Y_diff.append(abs(Z_s.imag[i,0]-Z_s.imag[j,0]))\n",
    "                \n",
    "print (max(Y_diff))"
   ]
  },
  {
   "cell_type": "code",
   "execution_count": null,
   "metadata": {
    "collapsed": false
   },
   "outputs": [],
   "source": [
    "T = 0.1\n",
    "c = 100\n",
    "H = 0.00\n",
    "r_s = ((1/4)+(T/(3*math.sqrt(3))))*c\n",
    "\n",
    "R_c = c/4 + (T*3*math.sqrt(3))\n",
    "Z_c = -4*a/(3*math.sqrt(3))*T + (1j*2*a*H) \n",
    "theta=npy.radians(npy.linspace(-180,180,25))\n",
    "Z_s = (Z+Z_c) + a**2/(Z+Z_c)\n",
    "\n",
    "#Joukoswki\n",
    "# plots the grid of points\n",
    "size = 10\n",
    "plt.figure(figsize=(size, (r_stop-r_start)/(r_stop-r_start)*size))\n",
    "plt.xlabel('x', fontsize=16)\n",
    "plt.ylabel('y', fontsize=16)\n",
    "plt.scatter(Z_s.real,Z_s.imag, s=10, color='#CD2305', marker='o', linewidth=0)\n",
    "\n",
    "plt.scatter(Z_s.real[:,0],Z_s.imag[:,0])\n",
    "#print (len(Z_s.real[:,0]))\n",
    "\n",
    "Y_diff = []\n",
    "\n",
    "for i in range(N):\n",
    "    for j in range(N):\n",
    "        if(Z_s.real[i,0]==Z_s.real[j,0] and Z_s.imag[i,0]!=Z_s.imag[j,0]):\n",
    "                Y_diff.append(abs(Z_s.imag[i,0]-Z_s.imag[j,0]))\n",
    "                \n",
    "print max(Y_diff)      "
   ]
  },
  {
   "cell_type": "code",
   "execution_count": null,
   "metadata": {
    "collapsed": false
   },
   "outputs": [],
   "source": [
    "H = 0.00\n",
    "T = 0.30\n",
    "c = 100\n",
    "a = c/4\n",
    "r_s = ((1/4)+(T/(3*math.sqrt(3))))*c\n",
    "R_c = (c/4 + (T*3*math.sqrt(3)))\n",
    "Z_c = -4*a/(3*math.sqrt(3))*300 + (1j*2*a*H) \n",
    "Z_c = -4*a/(3*math.sqrt(3))*T + (1j*2*a*H) \n",
    "theta=npy.radians(npy.linspace(-180,180,25))\n",
    "Z_s = (Z+Z_c) + a**2/(Z+Z_c)\n",
    "\n",
    "\n",
    "#Joukoswki\n",
    "# plots the grid of points\n",
    "size = 10\n",
    "plt.figure(figsize=(size, (r_stop-r_start)/(r_stop-r_start)*size))\n",
    "plt.xlabel('x', fontsize=16)\n",
    "plt.ylabel('y', fontsize=16)\n",
    "plt.scatter(Z_s.real,Z_s.imag, s=10, color='#CD2305', marker='o', linewidth=0)\n",
    "\n",
    "plt.scatter(Z_s.real[:,0],Z_s.imag[:,0])\n",
    "#print (len(Z_s.real[:,0]))\n",
    "\n",
    "Y_diff = []\n",
    "\n",
    "for i in range(N):\n",
    "    for j in range(N):\n",
    "        if(Z_s.real[i,0]==Z_s.real[j,0] and Z_s.imag[i,0]!=Z_s.imag[j,0]):\n",
    "                Y_diff.append(abs(Z_s.imag[i,0]-Z_s.imag[j,0]))\n",
    "                \n",
    "print ((Y_diff))     "
   ]
  },
  {
   "cell_type": "code",
   "execution_count": null,
   "metadata": {
    "collapsed": false
   },
   "outputs": [],
   "source": [
    "H = 0.02\n",
    "T = 0.10\n",
    "a = c/4\n",
    "r_s = ((1/4)+(T/(3*math.sqrt(3))))*c\n",
    "R_c = (c/4 + (T*3*math.sqrt(3)))\n",
    "Z_c = -4*a/(3*math.sqrt(3))*300 + (1j*2*a*H) \n",
    "Z_c = -4*a/(3*math.sqrt(3))*T + (1j*2*a*H) \n",
    "theta=npy.radians(npy.linspace(-180,180,25))\n",
    "Z_s = (Z+Z_c) + a**2/(Z+Z_c)\n",
    "\n",
    "#Joukoswki\n",
    "# plots the grid of points\n",
    "size = 10\n",
    "plt.figure(figsize=(size, (r_stop-r_start)/(r_stop-r_start)*size))\n",
    "plt.xlabel('x', fontsize=16)\n",
    "plt.ylabel('y', fontsize=16)\n",
    "plt.scatter(Z_s.real,Z_s.imag, s=10, color='#CD2305', marker='o', linewidth=0)\n",
    "\n",
    "plt.scatter(Z_s.real[:,0],Z_s.imag[:,0])\n",
    "#print (len(Z_s.real[:,0]))\n",
    "\n",
    "Y_diff = []\n",
    "\n",
    "for i in range(N):\n",
    "    for j in range(N):\n",
    "        if(Z_s.real[i,0]==Z_s.real[j,0] and Z_s.imag[i,0]!=Z_s.imag[j,0]):\n",
    "                Y_diff.append(abs(Z_s.imag[i,0]-Z_s.imag[j,0]))\n",
    "                \n",
    "print ((Y_diff))    "
   ]
  },
  {
   "cell_type": "code",
   "execution_count": null,
   "metadata": {
    "collapsed": false
   },
   "outputs": [],
   "source": [
    "H = 0.05\n",
    "T = 0.1\n",
    "a = c/4\n",
    "r_s = ((1/4)+(T/(3*math.sqrt(3))))*c\n",
    "R_c = (c/4 + (T*3*math.sqrt(3)))\n",
    "Z_c = -4*a/(3*math.sqrt(3))*300 + (1j*2*a*H) \n",
    "Z_c = -4*a/(3*math.sqrt(3))*T + (1j*2*a*H) \n",
    "theta=npy.radians(npy.linspace(-180,180,25))\n",
    "Z_s = (Z+Z_c) + a**2/(Z+Z_c)\n",
    "\n",
    "#Joukoswki\n",
    "# plots the grid of points\n",
    "size = 10\n",
    "plt.figure(figsize=(size, (r_stop-r_start)/(r_stop-r_start)*size))\n",
    "plt.xlabel('x', fontsize=16)\n",
    "plt.ylabel('y', fontsize=16)\n",
    "plt.scatter(Z_s.real,Z_s.imag, s=10, color='#CD2305', marker='o', linewidth=0)\n",
    "\n",
    "plt.scatter(Z_s.real[:,0],Z_s.imag[:,0])\n",
    "#print (len(Z_s.real[:,0]))\n",
    "\n",
    "Y_diff = []\n",
    "\n",
    "for i in range(N):\n",
    "    for j in range(N):\n",
    "        if(Z_s.real[i,0]==Z_s.real[j,0] and Z_s.imag[i,0]!=Z_s.imag[j,0]):\n",
    "                Y_diff.append(abs(Z_s.imag[i,0]-Z_s.imag[j,0]))\n",
    "                \n",
    "print ((Y_diff))"
   ]
  },
  {
   "cell_type": "code",
   "execution_count": null,
   "metadata": {
    "collapsed": false
   },
   "outputs": [],
   "source": [
    "H = 0.01\n",
    "T = 0.1\n",
    "a = c/4\n",
    "r_s = ((1/4)+(T/(3*math.sqrt(3))))*c\n",
    "R_c = (c/4 + (T*3*math.sqrt(3)))\n",
    "Z_c = -4*a/(3*math.sqrt(3))*300 + (1j*2*a*H) \n",
    "Z_c = -4*a/(3*math.sqrt(3))*T + (1j*2*a*H) \n",
    "theta=npy.radians(npy.linspace(-180,180,25))\n",
    "Z_s = (Z+Z_c) + a**2/(Z+Z_c)\n",
    "\n",
    "#Joukoswki\n",
    "# plots the grid of points\n",
    "size = 10\n",
    "plt.figure(figsize=(size, (r_stop-r_start)/(r_stop-r_start)*size))\n",
    "plt.xlabel('x', fontsize=16)\n",
    "plt.ylabel('y', fontsize=16)\n",
    "plt.scatter(Z_s.real,Z_s.imag, s=10, color='#CD2305', marker='o', linewidth=0)\n",
    "\n",
    "plt.scatter(Z_s.real[:,0],Z_s.imag[:,0])\n",
    "#print (len(Z_s.real[:,0]))\n",
    "\n",
    "Y_diff = []\n",
    "\n",
    "for i in range(N):\n",
    "    for j in range(N):\n",
    "        if(Z_s.real[i,0]==Z_s.real[j,0] and Z_s.imag[i,0]!=Z_s.imag[j,0]):\n",
    "                Y_diff.append(abs(Z_s.imag[i,0]-Z_s.imag[j,0]))\n",
    "                \n",
    "print ((Y_diff))    "
   ]
  },
  {
   "cell_type": "markdown",
   "metadata": {
    "collapsed": false
   },
   "source": [
    "### 1.  Numerically determine the camber and thickness ratio of the airfoils you have plotted. How do these  calculated values compare to the values of T and H g\n"
   ]
  },
  {
   "cell_type": "code",
   "execution_count": null,
   "metadata": {
    "collapsed": false
   },
   "outputs": [],
   "source": []
  },
  {
   "cell_type": "code",
   "execution_count": null,
   "metadata": {
    "collapsed": false
   },
   "outputs": [],
   "source": []
  },
  {
   "cell_type": "code",
   "execution_count": null,
   "metadata": {
    "collapsed": false
   },
   "outputs": [],
   "source": []
  },
  {
   "cell_type": "code",
   "execution_count": null,
   "metadata": {
    "collapsed": false,
    "scrolled": true
   },
   "outputs": [],
   "source": []
  },
  {
   "cell_type": "code",
   "execution_count": null,
   "metadata": {
    "collapsed": true
   },
   "outputs": [],
   "source": []
  },
  {
   "cell_type": "code",
   "execution_count": null,
   "metadata": {
    "collapsed": false
   },
   "outputs": [],
   "source": []
  },
  {
   "cell_type": "code",
   "execution_count": null,
   "metadata": {
    "collapsed": true
   },
   "outputs": [],
   "source": []
  },
  {
   "cell_type": "code",
   "execution_count": null,
   "metadata": {
    "collapsed": false
   },
   "outputs": [],
   "source": []
  },
  {
   "cell_type": "code",
   "execution_count": null,
   "metadata": {
    "collapsed": true
   },
   "outputs": [],
   "source": []
  },
  {
   "cell_type": "code",
   "execution_count": null,
   "metadata": {
    "collapsed": false
   },
   "outputs": [],
   "source": []
  },
  {
   "cell_type": "code",
   "execution_count": null,
   "metadata": {
    "collapsed": true
   },
   "outputs": [],
   "source": []
  }
 ],
 "metadata": {
  "kernelspec": {
   "display_name": "Python 3",
   "language": "python",
   "name": "python3"
  },
  "language_info": {
   "codemirror_mode": {
    "name": "ipython",
    "version": 3
   },
   "file_extension": ".py",
   "mimetype": "text/x-python",
   "name": "python",
   "nbconvert_exporter": "python",
   "pygments_lexer": "ipython3",
   "version": "3.4.4"
  }
 },
 "nbformat": 4,
 "nbformat_minor": 0
}
