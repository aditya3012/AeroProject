{
 "cells": [
  {
   "cell_type": "code",
   "execution_count": 38,
   "metadata": {
    "collapsed": false
   },
   "outputs": [],
   "source": [
    "import numpy\n",
    "import math \n",
    "from matplotlib import pyplot as plt"
   ]
  },
  {
   "cell_type": "code",
   "execution_count": 39,
   "metadata": {
    "collapsed": true
   },
   "outputs": [],
   "source": [
    "%matplotlib inline\n",
    "class Panel:\n",
    "    \"\"\"Contains information related to a panel.\"\"\"\n",
    "    def __init__(self, xa, ya, xb, yb):\n",
    "        \"\"\"Initializes the panel.\n",
    "        \n",
    "        Arguments\n",
    "        ---------\n",
    "        xa, ya -- coordinates of the first end-point of the panel.\n",
    "        xb, yb -- coordinates of the second end-point of the panel.\n",
    "        \"\"\"\n",
    "        self.xa, self.ya = xa, ya\n",
    "        self.xb, self.yb = xb, yb\n",
    "        \n",
    "        self.xc, self.yc = (xa+xb)/2, (ya+yb)/2       # control-point (center-point)\n",
    "        self.length = math.sqrt((xb-xa)**2+(yb-ya)**2)     # length of the panel\n",
    "        \n",
    "        # orientation of the panel (angle between x-axis and panel's normal)\n",
    "\n",
    "        self.beta = math.atan2((yb-ya),(xb-xa))\n",
    "        \n",
    "        self.sigma = 0.                             # source strength\n",
    "        \n",
    "        self.n= [-math.sin(self.beta), math.cos(self.beta)]  #Normal Vector\n",
    "        self.t= [math.cos(self.beta), math.sin(self.beta)] # tangential vector\n",
    "        self.cp = 0.                                # pressure coefficient\n",
    "    "
   ]
  },
  {
   "cell_type": "code",
   "execution_count": 40,
   "metadata": {
    "collapsed": false
   },
   "outputs": [],
   "source": [
    "R = 1.0\n",
    "N_panels = 20                    # number of panels desired\n",
    "\n",
    "\n",
    "# defining the end-points of the panels\n",
    "x_ends = R*numpy.cos(numpy.linspace(0, 2*math.pi, N_panels+1))\n",
    "y_ends = R*numpy.sin(numpy.linspace(0, 2*math.pi, N_panels+1))\n",
    "\n",
    "# defining the panels\n",
    "panels = numpy.empty(N_panels, dtype=object)\n",
    "for i in range(N_panels):\n",
    "    panels[i] = Panel(x_ends[i], y_ends[i], x_ends[i+1], y_ends[i+1])"
   ]
  },
  {
   "cell_type": "code",
   "execution_count": 41,
   "metadata": {
    "collapsed": true
   },
   "outputs": [],
   "source": [
    "#transforming into Joukowsky \n",
    "\n",
    "T  = 0.1\n",
    "c = 1 \n",
    "H = 0\n",
    "a = c/4\n",
    "theta = numpy.linspace(0, 2*math.pi, N_panels+1) \n",
    "Zeta_c = -4*a/(3*math.sqrt(3))*T+1j*2*H\n",
    "r_s = ((1/4)+(T/(3*math.sqrt(3))))*c\n",
    " \n",
    "Zeta = (r_s)*numpy.exp(1j*(theta))\n",
    "\n",
    "J = (Zeta+Zeta_c) + a**2/(Zeta+Zeta_c)\n",
    "\n",
    "x_ends = J.real\n",
    "y_ends = J.imag\n",
    "\n",
    "x_ends = x_ends[::-1]\n",
    "y_ends = y_ends[::-1]\n",
    "\n",
    "panels = numpy.empty(N_panels, dtype=object)\n",
    "for i in range(N_panels):\n",
    "    panels[i] = Panel(x_ends[i], y_ends[i], x_ends[i+1], y_ends[i+1])\n",
    "    "
   ]
  },
  {
   "cell_type": "code",
   "execution_count": 42,
   "metadata": {
    "collapsed": true
   },
   "outputs": [],
   "source": [
    "# Creating Meshgrid\n",
    "N = 50\n",
    "x_start, x_end = -1.5,1.5\n",
    "y_start, y_end = -1.5,1.5\n",
    "x = numpy.linspace(x_start, x_end, N)\n",
    "y = numpy.linspace(y_start, y_end, N)\n",
    "X, Y = numpy.meshgrid(x,y)"
   ]
  },
  {
   "cell_type": "code",
   "execution_count": 43,
   "metadata": {
    "collapsed": true
   },
   "outputs": [],
   "source": [
    "def get_source_panel_velocity (panel,xp,yp):\n",
    "    xpnew = (xp-panel.xb)*panel.t[0]+(yp-panel.yb)*panel.t[1] #rotation of coordinates\n",
    "    ypnew = (xp-panel.xb)*panel.n[0]+(yp-panel.yb)*panel.n[1]\n",
    "    \n",
    "    xbnew = 0\n",
    "    ybnew = 0\n",
    "    \n",
    "    xanew = (panel.xa-panel.xb)*panel.t[0]+(panel.ya-panel.yb)*panel.t[1] #new coordinates of the panels\n",
    "    yanew = (panel.ya-panel.yb)*panel.n[1]+(panel.xa-panel.xb)*panel.n[0]\n",
    "    \n",
    "    #velocity in transformed and rotated coordinates\n",
    "    u = (panel.sigma/(4*math.pi))*math.log(((xpnew-xanew)**2+ypnew**2)/((xpnew-xbnew)**2+ypnew**2),math.exp(1)) \n",
    "    v = (panel.sigma/(2*math.pi))*(math.atan2(ypnew,(xpnew-xbnew))-math.atan2(ypnew,(xpnew-xanew)))\n",
    "    \n",
    "    #Velocity in global coordinates\n",
    "    unew = (u)*panel.n[1]+(v)*panel.n[0] \n",
    "    vnew = (u)*panel.t[1]+(v)*panel.t[0]\n",
    "    \n",
    "    return unew,vnew"
   ]
  },
  {
   "cell_type": "code",
   "execution_count": 44,
   "metadata": {
    "collapsed": false
   },
   "outputs": [],
   "source": [
    "u= numpy.zeros((N,N),dtype=float)\n",
    "v= numpy.zeros((N,N),dtype=float)\n",
    "\n",
    "for i in range (N):\n",
    "    for j in range(N):\n",
    "        u[i][j],v[i][j]= get_source_panel_velocity(panels[0],X[i][j],Y[i][j])\n"
   ]
  },
  {
   "cell_type": "code",
   "execution_count": 45,
   "metadata": {
    "collapsed": true
   },
   "outputs": [],
   "source": [
    "def build_matrix(panels):\n",
    "      \n",
    "    N = len(panels)\n",
    "    A = numpy.empty((N, N), dtype=float)\n",
    "    numpy.fill_diagonal(A, 0.5)\n",
    "    \n",
    "    for i, p_i in enumerate(panels):\n",
    "        for j, p_j in enumerate(panels):\n",
    "            if i != j:\n",
    "                A[i,j] = (0.5/math.pi)*get_source_panel_velocity(p_j, p_i.xc, p_i.yc)[1]\n",
    "    \n",
    "    return A"
   ]
  },
  {
   "cell_type": "code",
   "execution_count": 46,
   "metadata": {
    "collapsed": true
   },
   "outputs": [],
   "source": [
    "u_inf = 1.0                                \n",
    "alpha = 0.0                                \n",
    "freestream = Freestream(u_inf, alpha)"
   ]
  },
  {
   "cell_type": "code",
   "execution_count": 47,
   "metadata": {
    "collapsed": true
   },
   "outputs": [],
   "source": [
    "class Freestream:\n",
    "\n",
    "    def __init__(self, u_inf=1.0, alpha=0.0):\n",
    "        \n",
    "        self.u_inf = u_inf\n",
    "        self.alpha = alpha*math.pi/180     "
   ]
  },
  {
   "cell_type": "code",
   "execution_count": 48,
   "metadata": {
    "collapsed": true
   },
   "outputs": [],
   "source": [
    "def build_rhs(panels, freestream):\n",
    "\n",
    "    b = numpy.empty(len(panels), dtype=float)\n",
    "    \n",
    "    for i, panel in enumerate(panels):\n",
    "        b[i] = -freestream.u_inf * math.cos(freestream.alpha - panel.beta)\n",
    "    \n",
    "    return b"
   ]
  },
  {
   "cell_type": "code",
   "execution_count": 49,
   "metadata": {
    "collapsed": false
   },
   "outputs": [],
   "source": [
    "A = build_matrix(panels)\n",
    "b = build_rhs(panels, freestream)\n",
    "\n",
    "# solving for sigma\n",
    "sigma = numpy.linalg.solve(A, b)\n",
    "for i, panel in enumerate(panels):\n",
    "    panel.sigma = sigma[i]\n"
   ]
  },
  {
   "cell_type": "code",
   "execution_count": 50,
   "metadata": {
    "collapsed": false
   },
   "outputs": [
    {
     "data": {
      "text/plain": [
       "array([ 0.5,  0.5,  0.5,  0.5,  0.5,  0.5,  0.5,  0.5,  0.5,  0.5,  0.5,\n",
       "        0.5,  0.5,  0.5,  0.5,  0.5,  0.5,  0.5,  0.5,  0.5])"
      ]
     },
     "execution_count": 50,
     "metadata": {},
     "output_type": "execute_result"
    }
   ],
   "source": [
    "#1/2 diagonal down\n",
    "A.diagonal()"
   ]
  },
  {
   "cell_type": "code",
   "execution_count": null,
   "metadata": {
    "collapsed": true
   },
   "outputs": [],
   "source": []
  }
 ],
 "metadata": {
  "kernelspec": {
   "display_name": "Python 3",
   "language": "python",
   "name": "python3"
  },
  "language_info": {
   "codemirror_mode": {
    "name": "ipython",
    "version": 3
   },
   "file_extension": ".py",
   "mimetype": "text/x-python",
   "name": "python",
   "nbconvert_exporter": "python",
   "pygments_lexer": "ipython3",
   "version": "3.4.4"
  }
 },
 "nbformat": 4,
 "nbformat_minor": 0
}
